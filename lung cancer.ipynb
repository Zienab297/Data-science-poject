{
 "cells": [
  {
   "cell_type": "markdown",
   "id": "7434adf8-995a-450a-afbe-a081ab2667d1",
   "metadata": {},
   "source": [
    "# Problem introduction and Data Sets Description"
   ]
  },
  {
   "cell_type": "markdown",
   "id": "0cc59dc0-647c-43d3-854e-1f5aaad3bcb1",
   "metadata": {},
   "source": [
    "The dataset contains information about a diverse number of people who have and don't have lung cancer.\n",
    "The data is mostly numerical because either a person smoke or not so it is 0 and 1.\n",
    "By training the model and putting some data away for validation we can know the accuracy of the model."
   ]
  },
  {
   "cell_type": "code",
   "execution_count": 1,
   "id": "064b835b",
   "metadata": {
    "id": "064b835b"
   },
   "outputs": [],
   "source": [
    "import pandas as pd\n",
    "import numpy as np\n",
    "import matplotlib.pyplot as plt\n",
    "import matplotlib as plt\n",
    "import seaborn as sns\n",
    "from scipy.stats import iqr\n",
    "import scipy.stats as stats\n",
    "from sklearn.model_selection import train_test_split\n",
    "from sklearn.preprocessing import StandardScaler\n",
    "from sklearn.naive_bayes import GaussianNB\n",
    "from sklearn import metrics\n",
    "from sklearn.metrics import confusion_matrix\n",
    "from sklearn.metrics import accuracy_score, precision_score, recall_score, f1_score\n",
    "from sklearn.preprocessing import OneHotEncoder, LabelEncoder\n",
    "from sklearn.tree import DecisionTreeClassifier\n",
    "from sklearn.decomposition import PCA\n",
    "from sklearn.discriminant_analysis import LinearDiscriminantAnalysis\n",
    "from sklearn.neighbors import KNeighborsClassifier\n",
    "from sklearn.metrics import accuracy_score, roc_curve, auc\n",
    "from sklearn.model_selection import cross_val_predict\n",
    "from scipy.stats import skew, kurtosis\n",
    "from sklearn.model_selection import cross_val_score\n",
    "from sklearn.model_selection import KFold\n",
    "from sklearn.ensemble import RandomForestClassifier\n",
    "from sklearn.discriminant_analysis import LinearDiscriminantAnalysis as LDA"
   ]
  },
  {
   "cell_type": "markdown",
   "id": "65725c32-f7d7-40a8-bf93-2cab0b640464",
   "metadata": {},
   "source": [
    "# Data Visualization"
   ]
  },
  {
   "cell_type": "code",
   "execution_count": 2,
   "id": "258014d9",
   "metadata": {
    "id": "258014d9"
   },
   "outputs": [],
   "source": [
    "df = pd.read_csv(\"survey lung cancer.csv\")"
   ]
  },
  {
   "cell_type": "code",
   "execution_count": 3,
   "id": "1ae75152",
   "metadata": {
    "colab": {
     "base_uri": "https://localhost:8080/",
     "height": 243
    },
    "id": "1ae75152",
    "outputId": "286664d5-9c1f-444f-fc5f-a8ef28e56d42",
    "scrolled": true
   },
   "outputs": [
    {
     "data": {
      "text/html": [
       "<div>\n",
       "<style scoped>\n",
       "    .dataframe tbody tr th:only-of-type {\n",
       "        vertical-align: middle;\n",
       "    }\n",
       "\n",
       "    .dataframe tbody tr th {\n",
       "        vertical-align: top;\n",
       "    }\n",
       "\n",
       "    .dataframe thead th {\n",
       "        text-align: right;\n",
       "    }\n",
       "</style>\n",
       "<table border=\"1\" class=\"dataframe\">\n",
       "  <thead>\n",
       "    <tr style=\"text-align: right;\">\n",
       "      <th></th>\n",
       "      <th>GENDER</th>\n",
       "      <th>AGE</th>\n",
       "      <th>SMOKING</th>\n",
       "      <th>YELLOW_FINGERS</th>\n",
       "      <th>ANXIETY</th>\n",
       "      <th>PEER_PRESSURE</th>\n",
       "      <th>CHRONIC DISEASE</th>\n",
       "      <th>FATIGUE</th>\n",
       "      <th>ALLERGY</th>\n",
       "      <th>WHEEZING</th>\n",
       "      <th>ALCOHOL CONSUMING</th>\n",
       "      <th>COUGHING</th>\n",
       "      <th>SHORTNESS OF BREATH</th>\n",
       "      <th>SWALLOWING DIFFICULTY</th>\n",
       "      <th>CHEST PAIN</th>\n",
       "      <th>LUNG_CANCER</th>\n",
       "    </tr>\n",
       "  </thead>\n",
       "  <tbody>\n",
       "    <tr>\n",
       "      <th>0</th>\n",
       "      <td>M</td>\n",
       "      <td>69</td>\n",
       "      <td>1</td>\n",
       "      <td>2</td>\n",
       "      <td>2</td>\n",
       "      <td>1</td>\n",
       "      <td>1</td>\n",
       "      <td>2</td>\n",
       "      <td>1</td>\n",
       "      <td>2</td>\n",
       "      <td>2</td>\n",
       "      <td>2</td>\n",
       "      <td>2</td>\n",
       "      <td>2</td>\n",
       "      <td>2</td>\n",
       "      <td>YES</td>\n",
       "    </tr>\n",
       "    <tr>\n",
       "      <th>1</th>\n",
       "      <td>M</td>\n",
       "      <td>74</td>\n",
       "      <td>2</td>\n",
       "      <td>1</td>\n",
       "      <td>1</td>\n",
       "      <td>1</td>\n",
       "      <td>2</td>\n",
       "      <td>2</td>\n",
       "      <td>2</td>\n",
       "      <td>1</td>\n",
       "      <td>1</td>\n",
       "      <td>1</td>\n",
       "      <td>2</td>\n",
       "      <td>2</td>\n",
       "      <td>2</td>\n",
       "      <td>YES</td>\n",
       "    </tr>\n",
       "    <tr>\n",
       "      <th>2</th>\n",
       "      <td>F</td>\n",
       "      <td>59</td>\n",
       "      <td>1</td>\n",
       "      <td>1</td>\n",
       "      <td>1</td>\n",
       "      <td>2</td>\n",
       "      <td>1</td>\n",
       "      <td>2</td>\n",
       "      <td>1</td>\n",
       "      <td>2</td>\n",
       "      <td>1</td>\n",
       "      <td>2</td>\n",
       "      <td>2</td>\n",
       "      <td>1</td>\n",
       "      <td>2</td>\n",
       "      <td>NO</td>\n",
       "    </tr>\n",
       "    <tr>\n",
       "      <th>3</th>\n",
       "      <td>M</td>\n",
       "      <td>63</td>\n",
       "      <td>2</td>\n",
       "      <td>2</td>\n",
       "      <td>2</td>\n",
       "      <td>1</td>\n",
       "      <td>1</td>\n",
       "      <td>1</td>\n",
       "      <td>1</td>\n",
       "      <td>1</td>\n",
       "      <td>2</td>\n",
       "      <td>1</td>\n",
       "      <td>1</td>\n",
       "      <td>2</td>\n",
       "      <td>2</td>\n",
       "      <td>NO</td>\n",
       "    </tr>\n",
       "    <tr>\n",
       "      <th>4</th>\n",
       "      <td>F</td>\n",
       "      <td>63</td>\n",
       "      <td>1</td>\n",
       "      <td>2</td>\n",
       "      <td>1</td>\n",
       "      <td>1</td>\n",
       "      <td>1</td>\n",
       "      <td>1</td>\n",
       "      <td>1</td>\n",
       "      <td>2</td>\n",
       "      <td>1</td>\n",
       "      <td>2</td>\n",
       "      <td>2</td>\n",
       "      <td>1</td>\n",
       "      <td>1</td>\n",
       "      <td>NO</td>\n",
       "    </tr>\n",
       "  </tbody>\n",
       "</table>\n",
       "</div>"
      ],
      "text/plain": [
       "  GENDER  AGE  SMOKING  YELLOW_FINGERS  ANXIETY  PEER_PRESSURE  \\\n",
       "0      M   69        1               2        2              1   \n",
       "1      M   74        2               1        1              1   \n",
       "2      F   59        1               1        1              2   \n",
       "3      M   63        2               2        2              1   \n",
       "4      F   63        1               2        1              1   \n",
       "\n",
       "   CHRONIC DISEASE  FATIGUE   ALLERGY   WHEEZING  ALCOHOL CONSUMING  COUGHING  \\\n",
       "0                1         2         1         2                  2         2   \n",
       "1                2         2         2         1                  1         1   \n",
       "2                1         2         1         2                  1         2   \n",
       "3                1         1         1         1                  2         1   \n",
       "4                1         1         1         2                  1         2   \n",
       "\n",
       "   SHORTNESS OF BREATH  SWALLOWING DIFFICULTY  CHEST PAIN LUNG_CANCER  \n",
       "0                    2                      2           2         YES  \n",
       "1                    2                      2           2         YES  \n",
       "2                    2                      1           2          NO  \n",
       "3                    1                      2           2          NO  \n",
       "4                    2                      1           1          NO  "
      ]
     },
     "execution_count": 3,
     "metadata": {},
     "output_type": "execute_result"
    }
   ],
   "source": [
    "df.head()"
   ]
  },
  {
   "cell_type": "code",
   "execution_count": 4,
   "id": "a6edd517",
   "metadata": {
    "colab": {
     "base_uri": "https://localhost:8080/"
    },
    "id": "a6edd517",
    "outputId": "103f34d3-b90f-4fdb-a06c-c2ec45f3839f"
   },
   "outputs": [
    {
     "name": "stdout",
     "output_type": "stream",
     "text": [
      "<class 'pandas.core.frame.DataFrame'>\n",
      "RangeIndex: 309 entries, 0 to 308\n",
      "Data columns (total 16 columns):\n",
      " #   Column                 Non-Null Count  Dtype \n",
      "---  ------                 --------------  ----- \n",
      " 0   GENDER                 309 non-null    object\n",
      " 1   AGE                    309 non-null    int64 \n",
      " 2   SMOKING                309 non-null    int64 \n",
      " 3   YELLOW_FINGERS         309 non-null    int64 \n",
      " 4   ANXIETY                309 non-null    int64 \n",
      " 5   PEER_PRESSURE          309 non-null    int64 \n",
      " 6   CHRONIC DISEASE        309 non-null    int64 \n",
      " 7   FATIGUE                309 non-null    int64 \n",
      " 8   ALLERGY                309 non-null    int64 \n",
      " 9   WHEEZING               309 non-null    int64 \n",
      " 10  ALCOHOL CONSUMING      309 non-null    int64 \n",
      " 11  COUGHING               309 non-null    int64 \n",
      " 12  SHORTNESS OF BREATH    309 non-null    int64 \n",
      " 13  SWALLOWING DIFFICULTY  309 non-null    int64 \n",
      " 14  CHEST PAIN             309 non-null    int64 \n",
      " 15  LUNG_CANCER            309 non-null    object\n",
      "dtypes: int64(14), object(2)\n",
      "memory usage: 38.8+ KB\n"
     ]
    }
   ],
   "source": [
    "df.info()"
   ]
  },
  {
   "cell_type": "code",
   "execution_count": 5,
   "id": "2702609a",
   "metadata": {
    "colab": {
     "base_uri": "https://localhost:8080/"
    },
    "id": "2702609a",
    "outputId": "42b3e927-b572-444a-a2d8-1794d3530a43"
   },
   "outputs": [
    {
     "data": {
      "text/plain": [
       "GENDER                   0\n",
       "AGE                      0\n",
       "SMOKING                  0\n",
       "YELLOW_FINGERS           0\n",
       "ANXIETY                  0\n",
       "PEER_PRESSURE            0\n",
       "CHRONIC DISEASE          0\n",
       "FATIGUE                  0\n",
       "ALLERGY                  0\n",
       "WHEEZING                 0\n",
       "ALCOHOL CONSUMING        0\n",
       "COUGHING                 0\n",
       "SHORTNESS OF BREATH      0\n",
       "SWALLOWING DIFFICULTY    0\n",
       "CHEST PAIN               0\n",
       "LUNG_CANCER              0\n",
       "dtype: int64"
      ]
     },
     "execution_count": 5,
     "metadata": {},
     "output_type": "execute_result"
    }
   ],
   "source": [
    "df.isnull().sum()"
   ]
  },
  {
   "cell_type": "code",
   "execution_count": 6,
   "id": "a334465d",
   "metadata": {
    "colab": {
     "base_uri": "https://localhost:8080/"
    },
    "id": "a334465d",
    "outputId": "4fdb76c7-8e30-4a5f-970f-2d54fa681e7a"
   },
   "outputs": [
    {
     "data": {
      "text/plain": [
       "0      False\n",
       "1      False\n",
       "2      False\n",
       "3      False\n",
       "4      False\n",
       "       ...  \n",
       "304     True\n",
       "305     True\n",
       "306     True\n",
       "307     True\n",
       "308     True\n",
       "Length: 309, dtype: bool"
      ]
     },
     "execution_count": 6,
     "metadata": {},
     "output_type": "execute_result"
    }
   ],
   "source": [
    " df.duplicated()"
   ]
  },
  {
   "cell_type": "code",
   "execution_count": 7,
   "id": "09178700",
   "metadata": {
    "colab": {
     "base_uri": "https://localhost:8080/"
    },
    "id": "09178700",
    "outputId": "9421f8e1-6805-4fd8-c3bd-ff38167861eb"
   },
   "outputs": [
    {
     "data": {
      "text/plain": [
       "0      False\n",
       "1      False\n",
       "2      False\n",
       "3      False\n",
       "4      False\n",
       "       ...  \n",
       "279    False\n",
       "280    False\n",
       "281    False\n",
       "282    False\n",
       "283    False\n",
       "Length: 276, dtype: bool"
      ]
     },
     "execution_count": 7,
     "metadata": {},
     "output_type": "execute_result"
    }
   ],
   "source": [
    "df.drop_duplicates(inplace=True)\n",
    "df.duplicated()"
   ]
  },
  {
   "cell_type": "markdown",
   "id": "820bb9f8-6b1f-4b9b-b2bf-9d8a3c5aaa37",
   "metadata": {},
   "source": [
    "# Data Analysis"
   ]
  },
  {
   "cell_type": "code",
   "execution_count": 8,
   "id": "b22cb123",
   "metadata": {
    "colab": {
     "base_uri": "https://localhost:8080/",
     "height": 488
    },
    "id": "b22cb123",
    "outputId": "8356d7ad-93cc-4e0f-81c7-e2e4e49a8be5",
    "scrolled": true
   },
   "outputs": [
    {
     "data": {
      "text/html": [
       "<div>\n",
       "<style scoped>\n",
       "    .dataframe tbody tr th:only-of-type {\n",
       "        vertical-align: middle;\n",
       "    }\n",
       "\n",
       "    .dataframe tbody tr th {\n",
       "        vertical-align: top;\n",
       "    }\n",
       "\n",
       "    .dataframe thead th {\n",
       "        text-align: right;\n",
       "    }\n",
       "</style>\n",
       "<table border=\"1\" class=\"dataframe\">\n",
       "  <thead>\n",
       "    <tr style=\"text-align: right;\">\n",
       "      <th></th>\n",
       "      <th>count</th>\n",
       "      <th>mean</th>\n",
       "      <th>std</th>\n",
       "      <th>min</th>\n",
       "      <th>25%</th>\n",
       "      <th>50%</th>\n",
       "      <th>75%</th>\n",
       "      <th>max</th>\n",
       "    </tr>\n",
       "  </thead>\n",
       "  <tbody>\n",
       "    <tr>\n",
       "      <th>AGE</th>\n",
       "      <td>276.0</td>\n",
       "      <td>62.909420</td>\n",
       "      <td>8.379355</td>\n",
       "      <td>21.0</td>\n",
       "      <td>57.75</td>\n",
       "      <td>62.5</td>\n",
       "      <td>69.0</td>\n",
       "      <td>87.0</td>\n",
       "    </tr>\n",
       "    <tr>\n",
       "      <th>SMOKING</th>\n",
       "      <td>276.0</td>\n",
       "      <td>1.543478</td>\n",
       "      <td>0.499011</td>\n",
       "      <td>1.0</td>\n",
       "      <td>1.00</td>\n",
       "      <td>2.0</td>\n",
       "      <td>2.0</td>\n",
       "      <td>2.0</td>\n",
       "    </tr>\n",
       "    <tr>\n",
       "      <th>YELLOW_FINGERS</th>\n",
       "      <td>276.0</td>\n",
       "      <td>1.576087</td>\n",
       "      <td>0.495075</td>\n",
       "      <td>1.0</td>\n",
       "      <td>1.00</td>\n",
       "      <td>2.0</td>\n",
       "      <td>2.0</td>\n",
       "      <td>2.0</td>\n",
       "    </tr>\n",
       "    <tr>\n",
       "      <th>ANXIETY</th>\n",
       "      <td>276.0</td>\n",
       "      <td>1.496377</td>\n",
       "      <td>0.500895</td>\n",
       "      <td>1.0</td>\n",
       "      <td>1.00</td>\n",
       "      <td>1.0</td>\n",
       "      <td>2.0</td>\n",
       "      <td>2.0</td>\n",
       "    </tr>\n",
       "    <tr>\n",
       "      <th>PEER_PRESSURE</th>\n",
       "      <td>276.0</td>\n",
       "      <td>1.507246</td>\n",
       "      <td>0.500856</td>\n",
       "      <td>1.0</td>\n",
       "      <td>1.00</td>\n",
       "      <td>2.0</td>\n",
       "      <td>2.0</td>\n",
       "      <td>2.0</td>\n",
       "    </tr>\n",
       "    <tr>\n",
       "      <th>CHRONIC DISEASE</th>\n",
       "      <td>276.0</td>\n",
       "      <td>1.521739</td>\n",
       "      <td>0.500435</td>\n",
       "      <td>1.0</td>\n",
       "      <td>1.00</td>\n",
       "      <td>2.0</td>\n",
       "      <td>2.0</td>\n",
       "      <td>2.0</td>\n",
       "    </tr>\n",
       "    <tr>\n",
       "      <th>FATIGUE</th>\n",
       "      <td>276.0</td>\n",
       "      <td>1.663043</td>\n",
       "      <td>0.473529</td>\n",
       "      <td>1.0</td>\n",
       "      <td>1.00</td>\n",
       "      <td>2.0</td>\n",
       "      <td>2.0</td>\n",
       "      <td>2.0</td>\n",
       "    </tr>\n",
       "    <tr>\n",
       "      <th>ALLERGY</th>\n",
       "      <td>276.0</td>\n",
       "      <td>1.547101</td>\n",
       "      <td>0.498681</td>\n",
       "      <td>1.0</td>\n",
       "      <td>1.00</td>\n",
       "      <td>2.0</td>\n",
       "      <td>2.0</td>\n",
       "      <td>2.0</td>\n",
       "    </tr>\n",
       "    <tr>\n",
       "      <th>WHEEZING</th>\n",
       "      <td>276.0</td>\n",
       "      <td>1.547101</td>\n",
       "      <td>0.498681</td>\n",
       "      <td>1.0</td>\n",
       "      <td>1.00</td>\n",
       "      <td>2.0</td>\n",
       "      <td>2.0</td>\n",
       "      <td>2.0</td>\n",
       "    </tr>\n",
       "    <tr>\n",
       "      <th>ALCOHOL CONSUMING</th>\n",
       "      <td>276.0</td>\n",
       "      <td>1.550725</td>\n",
       "      <td>0.498324</td>\n",
       "      <td>1.0</td>\n",
       "      <td>1.00</td>\n",
       "      <td>2.0</td>\n",
       "      <td>2.0</td>\n",
       "      <td>2.0</td>\n",
       "    </tr>\n",
       "    <tr>\n",
       "      <th>COUGHING</th>\n",
       "      <td>276.0</td>\n",
       "      <td>1.576087</td>\n",
       "      <td>0.495075</td>\n",
       "      <td>1.0</td>\n",
       "      <td>1.00</td>\n",
       "      <td>2.0</td>\n",
       "      <td>2.0</td>\n",
       "      <td>2.0</td>\n",
       "    </tr>\n",
       "    <tr>\n",
       "      <th>SHORTNESS OF BREATH</th>\n",
       "      <td>276.0</td>\n",
       "      <td>1.630435</td>\n",
       "      <td>0.483564</td>\n",
       "      <td>1.0</td>\n",
       "      <td>1.00</td>\n",
       "      <td>2.0</td>\n",
       "      <td>2.0</td>\n",
       "      <td>2.0</td>\n",
       "    </tr>\n",
       "    <tr>\n",
       "      <th>SWALLOWING DIFFICULTY</th>\n",
       "      <td>276.0</td>\n",
       "      <td>1.467391</td>\n",
       "      <td>0.499842</td>\n",
       "      <td>1.0</td>\n",
       "      <td>1.00</td>\n",
       "      <td>1.0</td>\n",
       "      <td>2.0</td>\n",
       "      <td>2.0</td>\n",
       "    </tr>\n",
       "    <tr>\n",
       "      <th>CHEST PAIN</th>\n",
       "      <td>276.0</td>\n",
       "      <td>1.557971</td>\n",
       "      <td>0.497530</td>\n",
       "      <td>1.0</td>\n",
       "      <td>1.00</td>\n",
       "      <td>2.0</td>\n",
       "      <td>2.0</td>\n",
       "      <td>2.0</td>\n",
       "    </tr>\n",
       "  </tbody>\n",
       "</table>\n",
       "</div>"
      ],
      "text/plain": [
       "                       count       mean       std   min    25%   50%   75%  \\\n",
       "AGE                    276.0  62.909420  8.379355  21.0  57.75  62.5  69.0   \n",
       "SMOKING                276.0   1.543478  0.499011   1.0   1.00   2.0   2.0   \n",
       "YELLOW_FINGERS         276.0   1.576087  0.495075   1.0   1.00   2.0   2.0   \n",
       "ANXIETY                276.0   1.496377  0.500895   1.0   1.00   1.0   2.0   \n",
       "PEER_PRESSURE          276.0   1.507246  0.500856   1.0   1.00   2.0   2.0   \n",
       "CHRONIC DISEASE        276.0   1.521739  0.500435   1.0   1.00   2.0   2.0   \n",
       "FATIGUE                276.0   1.663043  0.473529   1.0   1.00   2.0   2.0   \n",
       "ALLERGY                276.0   1.547101  0.498681   1.0   1.00   2.0   2.0   \n",
       "WHEEZING               276.0   1.547101  0.498681   1.0   1.00   2.0   2.0   \n",
       "ALCOHOL CONSUMING      276.0   1.550725  0.498324   1.0   1.00   2.0   2.0   \n",
       "COUGHING               276.0   1.576087  0.495075   1.0   1.00   2.0   2.0   \n",
       "SHORTNESS OF BREATH    276.0   1.630435  0.483564   1.0   1.00   2.0   2.0   \n",
       "SWALLOWING DIFFICULTY  276.0   1.467391  0.499842   1.0   1.00   1.0   2.0   \n",
       "CHEST PAIN             276.0   1.557971  0.497530   1.0   1.00   2.0   2.0   \n",
       "\n",
       "                        max  \n",
       "AGE                    87.0  \n",
       "SMOKING                 2.0  \n",
       "YELLOW_FINGERS          2.0  \n",
       "ANXIETY                 2.0  \n",
       "PEER_PRESSURE           2.0  \n",
       "CHRONIC DISEASE         2.0  \n",
       "FATIGUE                 2.0  \n",
       "ALLERGY                 2.0  \n",
       "WHEEZING                2.0  \n",
       "ALCOHOL CONSUMING       2.0  \n",
       "COUGHING                2.0  \n",
       "SHORTNESS OF BREATH     2.0  \n",
       "SWALLOWING DIFFICULTY   2.0  \n",
       "CHEST PAIN              2.0  "
      ]
     },
     "execution_count": 8,
     "metadata": {},
     "output_type": "execute_result"
    }
   ],
   "source": [
    "df.describe().T"
   ]
  },
  {
   "cell_type": "code",
   "execution_count": 9,
   "id": "0b3daae0",
   "metadata": {
    "colab": {
     "base_uri": "https://localhost:8080/",
     "height": 452
    },
    "id": "0b3daae0",
    "outputId": "4137f2de-5b67-42cf-a38b-4f67e54b0015"
   },
   "outputs": [
    {
     "data": {
      "text/plain": [
       "(0.0, 200.0)"
      ]
     },
     "execution_count": 9,
     "metadata": {},
     "output_type": "execute_result"
    },
    {
     "data": {
      "image/png": "[encoded data removed]",
      "text/plain": [
       "<Figure size 640x480 with 1 Axes>"
      ]
     },
     "metadata": {},
     "output_type": "display_data"
    }
   ],
   "source": [
    "sns.set_style(\"whitegrid\")\n",
    "gfg = sns.boxplot(data=df)\n",
    "gfg.set_ylim(0, 200)"
   ]
  },
  {
   "cell_type": "code",
   "execution_count": 10,
   "id": "f8041eb1",
   "metadata": {
    "colab": {
     "base_uri": "https://localhost:8080/",
     "height": 452
    },
    "id": "f8041eb1",
    "outputId": "43d8cb1b-585c-4600-bc48-133fc57077ac"
   },
   "outputs": [
    {
     "data": {
      "text/plain": [
       "(0.0, 200.0)"
      ]
     },
     "execution_count": 10,
     "metadata": {},
     "output_type": "execute_result"
    },
    {
     "data": {
      "image/png": "[encoded data removed]",
      "text/plain": [
       "<Figure size 640x480 with 1 Axes>"
      ]
     },
     "metadata": {},
     "output_type": "display_data"
    }
   ],
   "source": [
    "Q1 = df['AGE'].quantile(0.25)\n",
    "Q3 = df['AGE'].quantile(0.75)\n",
    "IQR = Q3 - Q1\n",
    "lower_bound = Q1 - 1.5 * IQR\n",
    "upper_bound = Q3 + 1.5 * IQR\n",
    "df.drop(df[(df['AGE'] < lower_bound) | (df['AGE'] > upper_bound)].index, inplace=True)\n",
    "sns.set_style(\"whitegrid\")\n",
    "gfg = sns.boxplot(data=df)\n",
    "gfg.set_ylim(0, 200)"
   ]
  },
  {
   "cell_type": "markdown",
   "id": "b9efd922-f13d-4d42-8f96-6a8f3a75ac3a",
   "metadata": {},
   "source": [
    "## Encoding"
   ]
  },
  {
   "cell_type": "code",
   "execution_count": 11,
   "id": "4b436b57",
   "metadata": {
    "colab": {
     "base_uri": "https://localhost:8080/",
     "height": 243
    },
    "id": "4b436b57",
    "outputId": "4cfb48d0-4879-436b-ff7c-5792066245e6"
   },
   "outputs": [
    {
     "data": {
      "text/html": [
       "<div>\n",
       "<style scoped>\n",
       "    .dataframe tbody tr th:only-of-type {\n",
       "        vertical-align: middle;\n",
       "    }\n",
       "\n",
       "    .dataframe tbody tr th {\n",
       "        vertical-align: top;\n",
       "    }\n",
       "\n",
       "    .dataframe thead th {\n",
       "        text-align: right;\n",
       "    }\n",
       "</style>\n",
       "<table border=\"1\" class=\"dataframe\">\n",
       "  <thead>\n",
       "    <tr style=\"text-align: right;\">\n",
       "      <th></th>\n",
       "      <th>GENDER</th>\n",
       "      <th>AGE</th>\n",
       "      <th>SMOKING</th>\n",
       "      <th>YELLOW_FINGERS</th>\n",
       "      <th>ANXIETY</th>\n",
       "      <th>PEER_PRESSURE</th>\n",
       "      <th>CHRONIC DISEASE</th>\n",
       "      <th>FATIGUE</th>\n",
       "      <th>ALLERGY</th>\n",
       "      <th>WHEEZING</th>\n",
       "      <th>ALCOHOL CONSUMING</th>\n",
       "      <th>COUGHING</th>\n",
       "      <th>SHORTNESS OF BREATH</th>\n",
       "      <th>SWALLOWING DIFFICULTY</th>\n",
       "      <th>CHEST PAIN</th>\n",
       "      <th>LUNG_CANCER</th>\n",
       "    </tr>\n",
       "  </thead>\n",
       "  <tbody>\n",
       "    <tr>\n",
       "      <th>0</th>\n",
       "      <td>1</td>\n",
       "      <td>69</td>\n",
       "      <td>1</td>\n",
       "      <td>2</td>\n",
       "      <td>2</td>\n",
       "      <td>1</td>\n",
       "      <td>1</td>\n",
       "      <td>2</td>\n",
       "      <td>1</td>\n",
       "      <td>2</td>\n",
       "      <td>2</td>\n",
       "      <td>2</td>\n",
       "      <td>2</td>\n",
       "      <td>2</td>\n",
       "      <td>2</td>\n",
       "      <td>1</td>\n",
       "    </tr>\n",
       "    <tr>\n",
       "      <th>1</th>\n",
       "      <td>1</td>\n",
       "      <td>74</td>\n",
       "      <td>2</td>\n",
       "      <td>1</td>\n",
       "      <td>1</td>\n",
       "      <td>1</td>\n",
       "      <td>2</td>\n",
       "      <td>2</td>\n",
       "      <td>2</td>\n",
       "      <td>1</td>\n",
       "      <td>1</td>\n",
       "      <td>1</td>\n",
       "      <td>2</td>\n",
       "      <td>2</td>\n",
       "      <td>2</td>\n",
       "      <td>1</td>\n",
       "    </tr>\n",
       "    <tr>\n",
       "      <th>2</th>\n",
       "      <td>0</td>\n",
       "      <td>59</td>\n",
       "      <td>1</td>\n",
       "      <td>1</td>\n",
       "      <td>1</td>\n",
       "      <td>2</td>\n",
       "      <td>1</td>\n",
       "      <td>2</td>\n",
       "      <td>1</td>\n",
       "      <td>2</td>\n",
       "      <td>1</td>\n",
       "      <td>2</td>\n",
       "      <td>2</td>\n",
       "      <td>1</td>\n",
       "      <td>2</td>\n",
       "      <td>0</td>\n",
       "    </tr>\n",
       "    <tr>\n",
       "      <th>3</th>\n",
       "      <td>1</td>\n",
       "      <td>63</td>\n",
       "      <td>2</td>\n",
       "      <td>2</td>\n",
       "      <td>2</td>\n",
       "      <td>1</td>\n",
       "      <td>1</td>\n",
       "      <td>1</td>\n",
       "      <td>1</td>\n",
       "      <td>1</td>\n",
       "      <td>2</td>\n",
       "      <td>1</td>\n",
       "      <td>1</td>\n",
       "      <td>2</td>\n",
       "      <td>2</td>\n",
       "      <td>0</td>\n",
       "    </tr>\n",
       "    <tr>\n",
       "      <th>4</th>\n",
       "      <td>0</td>\n",
       "      <td>63</td>\n",
       "      <td>1</td>\n",
       "      <td>2</td>\n",
       "      <td>1</td>\n",
       "      <td>1</td>\n",
       "      <td>1</td>\n",
       "      <td>1</td>\n",
       "      <td>1</td>\n",
       "      <td>2</td>\n",
       "      <td>1</td>\n",
       "      <td>2</td>\n",
       "      <td>2</td>\n",
       "      <td>1</td>\n",
       "      <td>1</td>\n",
       "      <td>0</td>\n",
       "    </tr>\n",
       "  </tbody>\n",
       "</table>\n",
       "</div>"
      ],
      "text/plain": [
       "   GENDER  AGE  SMOKING  YELLOW_FINGERS  ANXIETY  PEER_PRESSURE  \\\n",
       "0       1   69        1               2        2              1   \n",
       "1       1   74        2               1        1              1   \n",
       "2       0   59        1               1        1              2   \n",
       "3       1   63        2               2        2              1   \n",
       "4       0   63        1               2        1              1   \n",
       "\n",
       "   CHRONIC DISEASE  FATIGUE   ALLERGY   WHEEZING  ALCOHOL CONSUMING  COUGHING  \\\n",
       "0                1         2         1         2                  2         2   \n",
       "1                2         2         2         1                  1         1   \n",
       "2                1         2         1         2                  1         2   \n",
       "3                1         1         1         1                  2         1   \n",
       "4                1         1         1         2                  1         2   \n",
       "\n",
       "   SHORTNESS OF BREATH  SWALLOWING DIFFICULTY  CHEST PAIN  LUNG_CANCER  \n",
       "0                    2                      2           2            1  \n",
       "1                    2                      2           2            1  \n",
       "2                    2                      1           2            0  \n",
       "3                    1                      2           2            0  \n",
       "4                    2                      1           1            0  "
      ]
     },
     "execution_count": 11,
     "metadata": {},
     "output_type": "execute_result"
    }
   ],
   "source": [
    "df['GENDER'].replace(['F', 'M'],[0, 1], inplace=True)\n",
    "df['LUNG_CANCER'].replace(['NO', 'YES'],[0, 1], inplace=True)\n",
    "df.head()"
   ]
  },
  {
   "cell_type": "code",
   "execution_count": 12,
   "id": "897b322e",
   "metadata": {
    "colab": {
     "base_uri": "https://localhost:8080/",
     "height": 746
    },
    "id": "897b322e",
    "outputId": "e13c125b-5628-450b-bd1c-c20912640c41",
    "scrolled": true
   },
   "outputs": [
    {
     "data": {
      "text/plain": [
       "array([[<Axes: title={'center': 'GENDER'}>,\n",
       "        <Axes: title={'center': 'AGE'}>,\n",
       "        <Axes: title={'center': 'SMOKING'}>,\n",
       "        <Axes: title={'center': 'YELLOW_FINGERS'}>],\n",
       "       [<Axes: title={'center': 'ANXIETY'}>,\n",
       "        <Axes: title={'center': 'PEER_PRESSURE'}>,\n",
       "        <Axes: title={'center': 'CHRONIC DISEASE'}>,\n",
       "        <Axes: title={'center': 'FATIGUE '}>],\n",
       "       [<Axes: title={'center': 'ALLERGY '}>,\n",
       "        <Axes: title={'center': 'WHEEZING'}>,\n",
       "        <Axes: title={'center': 'ALCOHOL CONSUMING'}>,\n",
       "        <Axes: title={'center': 'COUGHING'}>],\n",
       "       [<Axes: title={'center': 'SHORTNESS OF BREATH'}>,\n",
       "        <Axes: title={'center': 'SWALLOWING DIFFICULTY'}>,\n",
       "        <Axes: title={'center': 'CHEST PAIN'}>,\n",
       "        <Axes: title={'center': 'LUNG_CANCER'}>]], dtype=object)"
      ]
     },
     "execution_count": 12,
     "metadata": {},
     "output_type": "execute_result"
    },
    {
     "data": {
      "image/png": "[encoded data removed]",
      "text/plain": [
       "<Figure size 1000x500 with 16 Axes>"
      ]
     },
     "metadata": {},
     "output_type": "display_data"
    }
   ],
   "source": [
    " df.hist(figsize=(10,5))"
   ]
  },
  {
   "cell_type": "code",
   "execution_count": 13,
   "id": "9f10ae31-cc63-48b5-a281-069f8cc8315f",
   "metadata": {},
   "outputs": [
    {
     "data": {
      "text/plain": [
       "GENDER                  -0.073988\n",
       "AGE                      0.032971\n",
       "SMOKING                 -0.178146\n",
       "YELLOW_FINGERS          -0.329668\n",
       "ANXIETY                 -0.014788\n",
       "PEER_PRESSURE           -0.044373\n",
       "CHRONIC DISEASE         -0.073988\n",
       "FATIGUE                 -0.670248\n",
       "ALLERGY                 -0.178146\n",
       "WHEEZING                -0.193123\n",
       "ALCOHOL CONSUMING       -0.223175\n",
       "COUGHING                -0.329668\n",
       "SHORTNESS OF BREATH     -0.519266\n",
       "SWALLOWING DIFFICULTY    0.103650\n",
       "CHEST PAIN              -0.238255\n",
       "LUNG_CANCER             -2.181866\n",
       "dtype: float64"
      ]
     },
     "execution_count": 13,
     "metadata": {},
     "output_type": "execute_result"
    }
   ],
   "source": [
    "df.skew()"
   ]
  },
  {
   "cell_type": "code",
   "execution_count": 14,
   "id": "0be2cc26-5601-40a7-91ef-b0047f3245e4",
   "metadata": {},
   "outputs": [
    {
     "name": "stderr",
     "output_type": "stream",
     "text": [
      "C:\\Users\\CONNECT\\anaconda3\\Lib\\site-packages\\seaborn\\_oldcore.py:1119: FutureWarning: use_inf_as_na option is deprecated and will be removed in a future version. Convert inf values to NaN before operating instead.\n",
      "  with pd.option_context('mode.use_inf_as_na', True):\n"
     ]
    },
    {
     "data": {
      "text/plain": [
       "<Axes: ylabel='Density'>"
      ]
     },
     "execution_count": 14,
     "metadata": {},
     "output_type": "execute_result"
    },
    {
     "data": {
      "image/png": "[encoded data removed]",
      "text/plain": [
       "<Figure size 640x480 with 1 Axes>"
      ]
     },
     "metadata": {},
     "output_type": "display_data"
    }
   ],
   "source": [
    "sns.kdeplot(df)"
   ]
  },
  {
   "cell_type": "code",
   "execution_count": 15,
   "id": "53519b02-5ae3-403c-b559-54499c075639",
   "metadata": {},
   "outputs": [
    {
     "data": {
      "text/html": [
       "<div>\n",
       "<style scoped>\n",
       "    .dataframe tbody tr th:only-of-type {\n",
       "        vertical-align: middle;\n",
       "    }\n",
       "\n",
       "    .dataframe tbody tr th {\n",
       "        vertical-align: top;\n",
       "    }\n",
       "\n",
       "    .dataframe thead th {\n",
       "        text-align: right;\n",
       "    }\n",
       "</style>\n",
       "<table border=\"1\" class=\"dataframe\">\n",
       "  <thead>\n",
       "    <tr style=\"text-align: right;\">\n",
       "      <th></th>\n",
       "      <th>GENDER</th>\n",
       "      <th>AGE</th>\n",
       "      <th>SMOKING</th>\n",
       "      <th>YELLOW_FINGERS</th>\n",
       "      <th>ANXIETY</th>\n",
       "      <th>PEER_PRESSURE</th>\n",
       "      <th>CHRONIC DISEASE</th>\n",
       "      <th>FATIGUE</th>\n",
       "      <th>ALLERGY</th>\n",
       "      <th>WHEEZING</th>\n",
       "      <th>ALCOHOL CONSUMING</th>\n",
       "      <th>COUGHING</th>\n",
       "      <th>SHORTNESS OF BREATH</th>\n",
       "      <th>SWALLOWING DIFFICULTY</th>\n",
       "      <th>CHEST PAIN</th>\n",
       "      <th>LUNG_CANCER</th>\n",
       "    </tr>\n",
       "  </thead>\n",
       "  <tbody>\n",
       "    <tr>\n",
       "      <th>GENDER</th>\n",
       "      <td>1.000000</td>\n",
       "      <td>-0.024909</td>\n",
       "      <td>0.033675</td>\n",
       "      <td>-0.207346</td>\n",
       "      <td>-0.162149</td>\n",
       "      <td>-0.280481</td>\n",
       "      <td>-0.178063</td>\n",
       "      <td>-0.074307</td>\n",
       "      <td>0.151862</td>\n",
       "      <td>0.114735</td>\n",
       "      <td>0.425296</td>\n",
       "      <td>0.120723</td>\n",
       "      <td>-0.047495</td>\n",
       "      <td>-0.057045</td>\n",
       "      <td>0.358701</td>\n",
       "      <td>0.036082</td>\n",
       "    </tr>\n",
       "    <tr>\n",
       "      <th>AGE</th>\n",
       "      <td>-0.024909</td>\n",
       "      <td>1.000000</td>\n",
       "      <td>-0.053188</td>\n",
       "      <td>0.015272</td>\n",
       "      <td>0.023998</td>\n",
       "      <td>0.032400</td>\n",
       "      <td>0.004086</td>\n",
       "      <td>0.047199</td>\n",
       "      <td>0.094199</td>\n",
       "      <td>0.070826</td>\n",
       "      <td>0.045367</td>\n",
       "      <td>0.174810</td>\n",
       "      <td>0.014714</td>\n",
       "      <td>-0.027002</td>\n",
       "      <td>-0.028664</td>\n",
       "      <td>0.107680</td>\n",
       "    </tr>\n",
       "    <tr>\n",
       "      <th>SMOKING</th>\n",
       "      <td>0.033675</td>\n",
       "      <td>-0.053188</td>\n",
       "      <td>1.000000</td>\n",
       "      <td>-0.014520</td>\n",
       "      <td>0.154369</td>\n",
       "      <td>-0.038872</td>\n",
       "      <td>-0.143607</td>\n",
       "      <td>-0.037302</td>\n",
       "      <td>-0.037489</td>\n",
       "      <td>-0.149404</td>\n",
       "      <td>-0.061819</td>\n",
       "      <td>-0.134205</td>\n",
       "      <td>0.053367</td>\n",
       "      <td>0.041523</td>\n",
       "      <td>0.108440</td>\n",
       "      <td>0.034597</td>\n",
       "    </tr>\n",
       "    <tr>\n",
       "      <th>YELLOW_FINGERS</th>\n",
       "      <td>-0.207346</td>\n",
       "      <td>0.015272</td>\n",
       "      <td>-0.014520</td>\n",
       "      <td>1.000000</td>\n",
       "      <td>0.557641</td>\n",
       "      <td>0.316857</td>\n",
       "      <td>0.016338</td>\n",
       "      <td>-0.093901</td>\n",
       "      <td>-0.149165</td>\n",
       "      <td>-0.068139</td>\n",
       "      <td>-0.280579</td>\n",
       "      <td>0.003331</td>\n",
       "      <td>-0.103888</td>\n",
       "      <td>0.329270</td>\n",
       "      <td>-0.109458</td>\n",
       "      <td>0.173962</td>\n",
       "    </tr>\n",
       "    <tr>\n",
       "      <th>ANXIETY</th>\n",
       "      <td>-0.162149</td>\n",
       "      <td>0.023998</td>\n",
       "      <td>0.154369</td>\n",
       "      <td>0.557641</td>\n",
       "      <td>1.000000</td>\n",
       "      <td>0.205776</td>\n",
       "      <td>-0.000271</td>\n",
       "      <td>-0.172967</td>\n",
       "      <td>-0.155672</td>\n",
       "      <td>-0.177993</td>\n",
       "      <td>-0.163578</td>\n",
       "      <td>-0.232195</td>\n",
       "      <td>-0.146190</td>\n",
       "      <td>0.471605</td>\n",
       "      <td>-0.126749</td>\n",
       "      <td>0.133064</td>\n",
       "    </tr>\n",
       "    <tr>\n",
       "      <th>PEER_PRESSURE</th>\n",
       "      <td>-0.280481</td>\n",
       "      <td>0.032400</td>\n",
       "      <td>-0.038872</td>\n",
       "      <td>0.316857</td>\n",
       "      <td>0.205776</td>\n",
       "      <td>1.000000</td>\n",
       "      <td>0.058066</td>\n",
       "      <td>0.101181</td>\n",
       "      <td>-0.068406</td>\n",
       "      <td>-0.046450</td>\n",
       "      <td>-0.150446</td>\n",
       "      <td>-0.070693</td>\n",
       "      <td>-0.210787</td>\n",
       "      <td>0.325175</td>\n",
       "      <td>-0.084082</td>\n",
       "      <td>0.182245</td>\n",
       "    </tr>\n",
       "    <tr>\n",
       "      <th>CHRONIC DISEASE</th>\n",
       "      <td>-0.178063</td>\n",
       "      <td>0.004086</td>\n",
       "      <td>-0.143607</td>\n",
       "      <td>0.016338</td>\n",
       "      <td>-0.000271</td>\n",
       "      <td>0.058066</td>\n",
       "      <td>1.000000</td>\n",
       "      <td>-0.105330</td>\n",
       "      <td>0.137089</td>\n",
       "      <td>-0.033100</td>\n",
       "      <td>0.025530</td>\n",
       "      <td>-0.162609</td>\n",
       "      <td>-0.017098</td>\n",
       "      <td>0.075573</td>\n",
       "      <td>-0.041405</td>\n",
       "      <td>0.166359</td>\n",
       "    </tr>\n",
       "    <tr>\n",
       "      <th>FATIGUE</th>\n",
       "      <td>-0.074307</td>\n",
       "      <td>0.047199</td>\n",
       "      <td>-0.037302</td>\n",
       "      <td>-0.093901</td>\n",
       "      <td>-0.172967</td>\n",
       "      <td>0.101181</td>\n",
       "      <td>-0.105330</td>\n",
       "      <td>1.000000</td>\n",
       "      <td>-0.006179</td>\n",
       "      <td>0.154865</td>\n",
       "      <td>-0.177350</td>\n",
       "      <td>0.157426</td>\n",
       "      <td>0.402237</td>\n",
       "      <td>-0.106997</td>\n",
       "      <td>0.015150</td>\n",
       "      <td>0.175908</td>\n",
       "    </tr>\n",
       "    <tr>\n",
       "      <th>ALLERGY</th>\n",
       "      <td>0.151862</td>\n",
       "      <td>0.094199</td>\n",
       "      <td>-0.037489</td>\n",
       "      <td>-0.149165</td>\n",
       "      <td>-0.155672</td>\n",
       "      <td>-0.068406</td>\n",
       "      <td>0.137089</td>\n",
       "      <td>-0.006179</td>\n",
       "      <td>1.000000</td>\n",
       "      <td>0.162055</td>\n",
       "      <td>0.383803</td>\n",
       "      <td>0.209887</td>\n",
       "      <td>-0.022871</td>\n",
       "      <td>-0.032392</td>\n",
       "      <td>0.242240</td>\n",
       "      <td>0.339560</td>\n",
       "    </tr>\n",
       "    <tr>\n",
       "      <th>WHEEZING</th>\n",
       "      <td>0.114735</td>\n",
       "      <td>0.070826</td>\n",
       "      <td>-0.149404</td>\n",
       "      <td>-0.068139</td>\n",
       "      <td>-0.177993</td>\n",
       "      <td>-0.046450</td>\n",
       "      <td>-0.033100</td>\n",
       "      <td>0.154865</td>\n",
       "      <td>0.162055</td>\n",
       "      <td>1.000000</td>\n",
       "      <td>0.256900</td>\n",
       "      <td>0.351041</td>\n",
       "      <td>0.043867</td>\n",
       "      <td>0.108501</td>\n",
       "      <td>0.129954</td>\n",
       "      <td>0.233687</td>\n",
       "    </tr>\n",
       "    <tr>\n",
       "      <th>ALCOHOL CONSUMING</th>\n",
       "      <td>0.425296</td>\n",
       "      <td>0.045367</td>\n",
       "      <td>-0.061819</td>\n",
       "      <td>-0.280579</td>\n",
       "      <td>-0.163578</td>\n",
       "      <td>-0.150446</td>\n",
       "      <td>0.025530</td>\n",
       "      <td>-0.177350</td>\n",
       "      <td>0.383803</td>\n",
       "      <td>0.256900</td>\n",
       "      <td>1.000000</td>\n",
       "      <td>0.199217</td>\n",
       "      <td>-0.158545</td>\n",
       "      <td>-0.009096</td>\n",
       "      <td>0.307195</td>\n",
       "      <td>0.283486</td>\n",
       "    </tr>\n",
       "    <tr>\n",
       "      <th>COUGHING</th>\n",
       "      <td>0.120723</td>\n",
       "      <td>0.174810</td>\n",
       "      <td>-0.134205</td>\n",
       "      <td>0.003331</td>\n",
       "      <td>-0.232195</td>\n",
       "      <td>-0.070693</td>\n",
       "      <td>-0.162609</td>\n",
       "      <td>0.157426</td>\n",
       "      <td>0.209887</td>\n",
       "      <td>0.351041</td>\n",
       "      <td>0.199217</td>\n",
       "      <td>1.000000</td>\n",
       "      <td>0.296274</td>\n",
       "      <td>-0.148232</td>\n",
       "      <td>0.070618</td>\n",
       "      <td>0.239925</td>\n",
       "    </tr>\n",
       "    <tr>\n",
       "      <th>SHORTNESS OF BREATH</th>\n",
       "      <td>-0.047495</td>\n",
       "      <td>0.014714</td>\n",
       "      <td>0.053367</td>\n",
       "      <td>-0.103888</td>\n",
       "      <td>-0.146190</td>\n",
       "      <td>-0.210787</td>\n",
       "      <td>-0.017098</td>\n",
       "      <td>0.402237</td>\n",
       "      <td>-0.022871</td>\n",
       "      <td>0.043867</td>\n",
       "      <td>-0.158545</td>\n",
       "      <td>0.296274</td>\n",
       "      <td>1.000000</td>\n",
       "      <td>-0.131172</td>\n",
       "      <td>0.045883</td>\n",
       "      <td>0.078434</td>\n",
       "    </tr>\n",
       "    <tr>\n",
       "      <th>SWALLOWING DIFFICULTY</th>\n",
       "      <td>-0.057045</td>\n",
       "      <td>-0.027002</td>\n",
       "      <td>0.041523</td>\n",
       "      <td>0.329270</td>\n",
       "      <td>0.471605</td>\n",
       "      <td>0.325175</td>\n",
       "      <td>0.075573</td>\n",
       "      <td>-0.106997</td>\n",
       "      <td>-0.032392</td>\n",
       "      <td>0.108501</td>\n",
       "      <td>-0.009096</td>\n",
       "      <td>-0.148232</td>\n",
       "      <td>-0.131172</td>\n",
       "      <td>1.000000</td>\n",
       "      <td>0.102490</td>\n",
       "      <td>0.262321</td>\n",
       "    </tr>\n",
       "    <tr>\n",
       "      <th>CHEST PAIN</th>\n",
       "      <td>0.358701</td>\n",
       "      <td>-0.028664</td>\n",
       "      <td>0.108440</td>\n",
       "      <td>-0.109458</td>\n",
       "      <td>-0.126749</td>\n",
       "      <td>-0.084082</td>\n",
       "      <td>-0.041405</td>\n",
       "      <td>0.015150</td>\n",
       "      <td>0.242240</td>\n",
       "      <td>0.129954</td>\n",
       "      <td>0.307195</td>\n",
       "      <td>0.070618</td>\n",
       "      <td>0.045883</td>\n",
       "      <td>0.102490</td>\n",
       "      <td>1.000000</td>\n",
       "      <td>0.177370</td>\n",
       "    </tr>\n",
       "    <tr>\n",
       "      <th>LUNG_CANCER</th>\n",
       "      <td>0.036082</td>\n",
       "      <td>0.107680</td>\n",
       "      <td>0.034597</td>\n",
       "      <td>0.173962</td>\n",
       "      <td>0.133064</td>\n",
       "      <td>0.182245</td>\n",
       "      <td>0.166359</td>\n",
       "      <td>0.175908</td>\n",
       "      <td>0.339560</td>\n",
       "      <td>0.233687</td>\n",
       "      <td>0.283486</td>\n",
       "      <td>0.239925</td>\n",
       "      <td>0.078434</td>\n",
       "      <td>0.262321</td>\n",
       "      <td>0.177370</td>\n",
       "      <td>1.000000</td>\n",
       "    </tr>\n",
       "  </tbody>\n",
       "</table>\n",
       "</div>"
      ],
      "text/plain": [
       "                         GENDER       AGE   SMOKING  YELLOW_FINGERS   ANXIETY  \\\n",
       "GENDER                 1.000000 -0.024909  0.033675       -0.207346 -0.162149   \n",
       "AGE                   -0.024909  1.000000 -0.053188        0.015272  0.023998   \n",
       "SMOKING                0.033675 -0.053188  1.000000       -0.014520  0.154369   \n",
       "YELLOW_FINGERS        -0.207346  0.015272 -0.014520        1.000000  0.557641   \n",
       "ANXIETY               -0.162149  0.023998  0.154369        0.557641  1.000000   \n",
       "PEER_PRESSURE         -0.280481  0.032400 -0.038872        0.316857  0.205776   \n",
       "CHRONIC DISEASE       -0.178063  0.004086 -0.143607        0.016338 -0.000271   \n",
       "FATIGUE               -0.074307  0.047199 -0.037302       -0.093901 -0.172967   \n",
       "ALLERGY                0.151862  0.094199 -0.037489       -0.149165 -0.155672   \n",
       "WHEEZING               0.114735  0.070826 -0.149404       -0.068139 -0.177993   \n",
       "ALCOHOL CONSUMING      0.425296  0.045367 -0.061819       -0.280579 -0.163578   \n",
       "COUGHING               0.120723  0.174810 -0.134205        0.003331 -0.232195   \n",
       "SHORTNESS OF BREATH   -0.047495  0.014714  0.053367       -0.103888 -0.146190   \n",
       "SWALLOWING DIFFICULTY -0.057045 -0.027002  0.041523        0.329270  0.471605   \n",
       "CHEST PAIN             0.358701 -0.028664  0.108440       -0.109458 -0.126749   \n",
       "LUNG_CANCER            0.036082  0.107680  0.034597        0.173962  0.133064   \n",
       "\n",
       "                       PEER_PRESSURE  CHRONIC DISEASE  FATIGUE   ALLERGY   \\\n",
       "GENDER                     -0.280481        -0.178063 -0.074307  0.151862   \n",
       "AGE                         0.032400         0.004086  0.047199  0.094199   \n",
       "SMOKING                    -0.038872        -0.143607 -0.037302 -0.037489   \n",
       "YELLOW_FINGERS              0.316857         0.016338 -0.093901 -0.149165   \n",
       "ANXIETY                     0.205776        -0.000271 -0.172967 -0.155672   \n",
       "PEER_PRESSURE               1.000000         0.058066  0.101181 -0.068406   \n",
       "CHRONIC DISEASE             0.058066         1.000000 -0.105330  0.137089   \n",
       "FATIGUE                     0.101181        -0.105330  1.000000 -0.006179   \n",
       "ALLERGY                    -0.068406         0.137089 -0.006179  1.000000   \n",
       "WHEEZING                   -0.046450        -0.033100  0.154865  0.162055   \n",
       "ALCOHOL CONSUMING          -0.150446         0.025530 -0.177350  0.383803   \n",
       "COUGHING                   -0.070693        -0.162609  0.157426  0.209887   \n",
       "SHORTNESS OF BREATH        -0.210787        -0.017098  0.402237 -0.022871   \n",
       "SWALLOWING DIFFICULTY       0.325175         0.075573 -0.106997 -0.032392   \n",
       "CHEST PAIN                 -0.084082        -0.041405  0.015150  0.242240   \n",
       "LUNG_CANCER                 0.182245         0.166359  0.175908  0.339560   \n",
       "\n",
       "                       WHEEZING  ALCOHOL CONSUMING  COUGHING  \\\n",
       "GENDER                 0.114735           0.425296  0.120723   \n",
       "AGE                    0.070826           0.045367  0.174810   \n",
       "SMOKING               -0.149404          -0.061819 -0.134205   \n",
       "YELLOW_FINGERS        -0.068139          -0.280579  0.003331   \n",
       "ANXIETY               -0.177993          -0.163578 -0.232195   \n",
       "PEER_PRESSURE         -0.046450          -0.150446 -0.070693   \n",
       "CHRONIC DISEASE       -0.033100           0.025530 -0.162609   \n",
       "FATIGUE                0.154865          -0.177350  0.157426   \n",
       "ALLERGY                0.162055           0.383803  0.209887   \n",
       "WHEEZING               1.000000           0.256900  0.351041   \n",
       "ALCOHOL CONSUMING      0.256900           1.000000  0.199217   \n",
       "COUGHING               0.351041           0.199217  1.000000   \n",
       "SHORTNESS OF BREATH    0.043867          -0.158545  0.296274   \n",
       "SWALLOWING DIFFICULTY  0.108501          -0.009096 -0.148232   \n",
       "CHEST PAIN             0.129954           0.307195  0.070618   \n",
       "LUNG_CANCER            0.233687           0.283486  0.239925   \n",
       "\n",
       "                       SHORTNESS OF BREATH  SWALLOWING DIFFICULTY  CHEST PAIN  \\\n",
       "GENDER                           -0.047495              -0.057045    0.358701   \n",
       "AGE                               0.014714              -0.027002   -0.028664   \n",
       "SMOKING                           0.053367               0.041523    0.108440   \n",
       "YELLOW_FINGERS                   -0.103888               0.329270   -0.109458   \n",
       "ANXIETY                          -0.146190               0.471605   -0.126749   \n",
       "PEER_PRESSURE                    -0.210787               0.325175   -0.084082   \n",
       "CHRONIC DISEASE                  -0.017098               0.075573   -0.041405   \n",
       "FATIGUE                           0.402237              -0.106997    0.015150   \n",
       "ALLERGY                          -0.022871              -0.032392    0.242240   \n",
       "WHEEZING                          0.043867               0.108501    0.129954   \n",
       "ALCOHOL CONSUMING                -0.158545              -0.009096    0.307195   \n",
       "COUGHING                          0.296274              -0.148232    0.070618   \n",
       "SHORTNESS OF BREATH               1.000000              -0.131172    0.045883   \n",
       "SWALLOWING DIFFICULTY            -0.131172               1.000000    0.102490   \n",
       "CHEST PAIN                        0.045883               0.102490    1.000000   \n",
       "LUNG_CANCER                       0.078434               0.262321    0.177370   \n",
       "\n",
       "                       LUNG_CANCER  \n",
       "GENDER                    0.036082  \n",
       "AGE                       0.107680  \n",
       "SMOKING                   0.034597  \n",
       "YELLOW_FINGERS            0.173962  \n",
       "ANXIETY                   0.133064  \n",
       "PEER_PRESSURE             0.182245  \n",
       "CHRONIC DISEASE           0.166359  \n",
       "FATIGUE                   0.175908  \n",
       "ALLERGY                   0.339560  \n",
       "WHEEZING                  0.233687  \n",
       "ALCOHOL CONSUMING         0.283486  \n",
       "COUGHING                  0.239925  \n",
       "SHORTNESS OF BREATH       0.078434  \n",
       "SWALLOWING DIFFICULTY     0.262321  \n",
       "CHEST PAIN                0.177370  \n",
       "LUNG_CANCER               1.000000  "
      ]
     },
     "execution_count": 15,
     "metadata": {},
     "output_type": "execute_result"
    }
   ],
   "source": [
    "df.corr()"
   ]
  },
  {
   "cell_type": "code",
   "execution_count": 16,
   "id": "d4f7daaa",
   "metadata": {
    "colab": {
     "base_uri": "https://localhost:8080/",
     "height": 616
    },
    "id": "d4f7daaa",
    "outputId": "25954fe4-b410-41da-9c69-5e7aa3a0e57c"
   },
   "outputs": [
    {
     "data": {
      "text/plain": [
       "<Axes: >"
      ]
     },
     "execution_count": 16,
     "metadata": {},
     "output_type": "execute_result"
    },
    {
     "data": {
      "image/png": "[encoded data removed]",
      "text/plain": [
       "<Figure size 640x480 with 2 Axes>"
      ]
     },
     "metadata": {},
     "output_type": "display_data"
    }
   ],
   "source": [
    "sns.heatmap(df.corr())"
   ]
  },
  {
   "cell_type": "code",
   "execution_count": 17,
   "id": "2dd08c56-6ce4-4a4e-9848-25600543f206",
   "metadata": {},
   "outputs": [
    {
     "name": "stdout",
     "output_type": "stream",
     "text": [
      "[[266.40234375 286.4375     228.1640625  ... 212.2421875  177.0625\n",
      "  230.859375  ]\n",
      " [286.4375     308.5        245.4375     ... 228.5625     190.4375\n",
      "  248.1875    ]\n",
      " [228.1640625  245.4375     195.734375   ... 181.953125   151.625\n",
      "  197.71875   ]\n",
      " ...\n",
      " [212.2421875  228.5625     181.953125   ... 169.484375   141.125\n",
      "  183.90625   ]\n",
      " [177.0625     190.4375     151.625      ... 141.125      117.875\n",
      "  153.4375    ]\n",
      " [230.859375   248.1875     197.71875    ... 183.90625    153.4375\n",
      "  200.0625    ]]\n"
     ]
    }
   ],
   "source": [
    "covar_matrix = np.cov(df, bias=True)\n",
    "print(covar_matrix)"
   ]
  },
  {
   "cell_type": "markdown",
   "id": "7e55fbec-087c-46c5-b876-aed19e3d62aa",
   "metadata": {},
   "source": [
    "# Binning of age column"
   ]
  },
  {
   "cell_type": "code",
   "execution_count": 18,
   "id": "147d8754",
   "metadata": {
    "id": "147d8754"
   },
   "outputs": [],
   "source": [
    "max_value = max(df['AGE'])\n",
    "min_value = min(df['AGE'])\n",
    "num_bins = 10\n",
    "bin_width = (max_value - min_value) / num_bins\n",
    "bins = [min_value + i * bin_width for i in range(num_bins + 1)]"
   ]
  },
  {
   "cell_type": "markdown",
   "id": "c66627bf-11d1-43f0-8cfe-242fd659e6b9",
   "metadata": {},
   "source": [
    "# Z-test"
   ]
  },
  {
   "cell_type": "code",
   "execution_count": 19,
   "id": "6d656a63",
   "metadata": {
    "colab": {
     "base_uri": "https://localhost:8080/"
    },
    "id": "6d656a63",
    "outputId": "84b6771d-46c7-45d8-da63-b7f487221de5"
   },
   "outputs": [
    {
     "name": "stdout",
     "output_type": "stream",
     "text": [
      "Z-Score : -6.528393311860185\n",
      "Critical Z-Score : 1.6448536269514722\n",
      "Fail to Reject Null Hypothesis\n",
      "p-value : 0.9999999999667605\n",
      "Fail to Reject Null Hypothesis\n"
     ]
    }
   ],
   "source": [
    "sample_mean = 0\n",
    "population_mean = 0.135036\n",
    "population_std = 0.342388\n",
    "sample_size = 274\n",
    "alpha = 0.05\n",
    "\n",
    "# compute the z-score\n",
    "z_score = (sample_mean-population_mean)/(population_std/np.sqrt(sample_size))\n",
    "print('Z-Score :',z_score)\n",
    "\n",
    "# Approach 1: Using Critical Z-Score\n",
    "\n",
    "# Critical Z-Score\n",
    "z_critical = stats.norm.ppf(1-alpha)\n",
    "print('Critical Z-Score :',z_critical)\n",
    "\n",
    "# Hypothesis\n",
    "if z_score > z_critical:\n",
    "    print(\"Reject Null Hypothesis\")\n",
    "else:\n",
    "    print(\"Fail to Reject Null Hypothesis\")\n",
    "\n",
    "# Approach 2: Using p-value\n",
    "\n",
    "p_value = 1-stats.norm.cdf(z_score)\n",
    "\n",
    "print('p-value :',p_value)\n",
    "\n",
    "# Hypothesis\n",
    "if p_value < alpha:\n",
    "    print(\"Reject Null Hypothesis\")\n",
    "else:\n",
    "    print(\"Fail to Reject Null Hypothesis\")"
   ]
  },
  {
   "cell_type": "markdown",
   "id": "1ad0fe4d-fdd0-40f8-b79d-743d5c5d73cf",
   "metadata": {},
   "source": [
    "# Data splitting"
   ]
  },
  {
   "cell_type": "code",
   "execution_count": 20,
   "id": "279c5304",
   "metadata": {
    "id": "279c5304"
   },
   "outputs": [],
   "source": [
    "X = df.drop(\"LUNG_CANCER\",axis=1)\n",
    "y= df[\"LUNG_CANCER\"]"
   ]
  },
  {
   "cell_type": "code",
   "execution_count": 21,
   "id": "573654ea",
   "metadata": {
    "colab": {
     "base_uri": "https://localhost:8080/"
    },
    "id": "573654ea",
    "outputId": "380a1717-af45-498f-d6e2-047a032dd08e",
    "scrolled": true
   },
   "outputs": [
    {
     "name": "stdout",
     "output_type": "stream",
     "text": [
      "Number of rows in the total set: 272\n",
      "Number of rows in the training set: 217\n",
      "Number of rows in the test set: 55\n"
     ]
    }
   ],
   "source": [
    "X_train, X_test, y_train, y_test = train_test_split(X,y,test_size=0.2 ,random_state=1)\n",
    "print('Number of rows in the total set: {}'.format(df.shape[0]))\n",
    "print('Number of rows in the training set: {}'.format(X_train.shape[0]))\n",
    "print('Number of rows in the test set: {}'.format(X_test.shape[0]))"
   ]
  },
  {
   "cell_type": "markdown",
   "id": "0f8e61e9-2e09-470b-94d1-94e5a3895156",
   "metadata": {},
   "source": [
    "# Feature Reduction"
   ]
  },
  {
   "cell_type": "markdown",
   "id": "5874575e-3e98-4ff8-9359-78ba8c5463d5",
   "metadata": {},
   "source": [
    "## LDA"
   ]
  },
  {
   "cell_type": "code",
   "execution_count": 22,
   "id": "fc83e168-696c-4b64-9304-15aaee774893",
   "metadata": {},
   "outputs": [
    {
     "name": "stdout",
     "output_type": "stream",
     "text": [
      "     LDA_Component\n",
      "0        -0.960496\n",
      "1         0.162642\n",
      "2         1.540710\n",
      "3         0.797156\n",
      "4         2.365739\n",
      "..             ...\n",
      "267       0.283066\n",
      "268       1.035533\n",
      "269       1.682808\n",
      "270       2.521784\n",
      "271      -0.880683\n",
      "\n",
      "[272 rows x 1 columns]\n"
     ]
    }
   ],
   "source": [
    "lda = LinearDiscriminantAnalysis(n_components=1)  # Set the number of components\n",
    "\n",
    "# Fit the model and transform the features\n",
    "X_lda = lda.fit_transform(X, y)\n",
    "\n",
    "# Display the transformed features\n",
    "result_df = pd.DataFrame(X_lda, columns=['LDA_Component'])\n",
    "print(result_df)"
   ]
  },
  {
   "cell_type": "markdown",
   "id": "ce76f77f-5b5d-4a78-8bc8-227d427934a4",
   "metadata": {},
   "source": [
    "## PCA"
   ]
  },
  {
   "cell_type": "code",
   "execution_count": 23,
   "id": "746e9fdd-3ebf-484c-a0ae-3eb293a4975f",
   "metadata": {},
   "outputs": [
    {
     "name": "stdout",
     "output_type": "stream",
     "text": [
      "     PCA_Component\n",
      "0        -5.851002\n",
      "1       -10.831703\n",
      "2         4.152513\n",
      "3         0.176528\n",
      "4         0.155278\n",
      "..             ...\n",
      "267       4.142762\n",
      "268       4.165884\n",
      "269       8.169126\n",
      "270      17.173789\n",
      "271       3.147820\n",
      "\n",
      "[272 rows x 1 columns]\n"
     ]
    }
   ],
   "source": [
    "pca = PCA(n_components=1)  # Set the number of components\n",
    "\n",
    "# Fit and transform the features\n",
    "X_pca = pca.fit_transform(df)\n",
    "\n",
    "# Display the transformed features\n",
    "result_df = pd.DataFrame(X_pca, columns=['PCA_Component'])\n",
    "print(result_df)"
   ]
  },
  {
   "cell_type": "markdown",
   "id": "7c9de5fc-4489-4c5a-a486-eb89bc592ca3",
   "metadata": {},
   "source": [
    "# Naive Bayes"
   ]
  },
  {
   "cell_type": "code",
   "execution_count": 24,
   "id": "e937ed47",
   "metadata": {
    "colab": {
     "base_uri": "https://localhost:8080/"
    },
    "id": "e937ed47",
    "outputId": "43044da8-2942-4283-a5e9-338842193af9"
   },
   "outputs": [
    {
     "data": {
      "text/plain": [
       "array([1, 0, 1, 1, 1, 1, 1, 1, 1, 1], dtype=int64)"
      ]
     },
     "execution_count": 24,
     "metadata": {},
     "output_type": "execute_result"
    }
   ],
   "source": [
    "classifier = GaussianNB()\n",
    "classifier.fit(X_train, y_train)\n",
    "predictions = classifier.predict(X_test)\n",
    "predictions[:10]"
   ]
  },
  {
   "cell_type": "code",
   "execution_count": 25,
   "id": "lPiHjYyKy19k",
   "metadata": {
    "colab": {
     "base_uri": "https://localhost:8080/"
    },
    "id": "lPiHjYyKy19k",
    "outputId": "ba92712a-f608-4ca6-96ca-ef95de6e3daf"
   },
   "outputs": [
    {
     "name": "stdout",
     "output_type": "stream",
     "text": [
      "Accuracy: 92.73 %\n"
     ]
    }
   ],
   "source": [
    "y_pred = classifier.predict(X_test)\n",
    "accuracy = (accuracy_score(y_test, y_pred))*100\n",
    "print(f'Accuracy: {accuracy:.2f}', \"%\")"
   ]
  },
  {
   "cell_type": "code",
   "execution_count": 26,
   "id": "fc31143d-65e4-4d87-948b-c9e57032d49b",
   "metadata": {},
   "outputs": [
    {
     "name": "stdout",
     "output_type": "stream",
     "text": [
      "confusion_matrix: \n",
      " [[ 5  1]\n",
      " [ 3 46]]\n"
     ]
    }
   ],
   "source": [
    "print('confusion_matrix: \\n', format(confusion_matrix(y_test, predictions)))"
   ]
  },
  {
   "cell_type": "code",
   "execution_count": 27,
   "id": "58b61d8f-259d-4217-b5b1-edfb3686c329",
   "metadata": {},
   "outputs": [
    {
     "ename": "AttributeError",
     "evalue": "module 'matplotlib' has no attribute 'show'",
     "output_type": "error",
     "traceback": [
      "\u001b[1;31m---------------------------------------------------------------------------\u001b[0m",
      "\u001b[1;31mAttributeError\u001b[0m                            Traceback (most recent call last)",
      "Cell \u001b[1;32mIn[27], line 3\u001b[0m\n\u001b[0;32m      1\u001b[0m \u001b[38;5;28;01mfrom\u001b[39;00m \u001b[38;5;21;01msklearn\u001b[39;00m\u001b[38;5;21;01m.\u001b[39;00m\u001b[38;5;21;01mmetrics\u001b[39;00m \u001b[38;5;28;01mimport\u001b[39;00m ConfusionMatrixDisplay\n\u001b[0;32m      2\u001b[0m ConfusionMatrixDisplay\u001b[38;5;241m.\u001b[39mfrom_predictions(y_test, predictions)\n\u001b[1;32m----> 3\u001b[0m plt\u001b[38;5;241m.\u001b[39mshow()\n",
      "File \u001b[1;32m~\\anaconda3\\Lib\\site-packages\\matplotlib\\_api\\__init__.py:217\u001b[0m, in \u001b[0;36mcaching_module_getattr.<locals>.__getattr__\u001b[1;34m(name)\u001b[0m\n\u001b[0;32m    215\u001b[0m \u001b[38;5;28;01mif\u001b[39;00m name \u001b[38;5;129;01min\u001b[39;00m props:\n\u001b[0;32m    216\u001b[0m     \u001b[38;5;28;01mreturn\u001b[39;00m props[name]\u001b[38;5;241m.\u001b[39m\u001b[38;5;21m__get__\u001b[39m(instance)\n\u001b[1;32m--> 217\u001b[0m \u001b[38;5;28;01mraise\u001b[39;00m \u001b[38;5;167;01mAttributeError\u001b[39;00m(\n\u001b[0;32m    218\u001b[0m     \u001b[38;5;124mf\u001b[39m\u001b[38;5;124m\"\u001b[39m\u001b[38;5;124mmodule \u001b[39m\u001b[38;5;132;01m{\u001b[39;00m\u001b[38;5;28mcls\u001b[39m\u001b[38;5;241m.\u001b[39m\u001b[38;5;18m__module__\u001b[39m\u001b[38;5;132;01m!r}\u001b[39;00m\u001b[38;5;124m has no attribute \u001b[39m\u001b[38;5;132;01m{\u001b[39;00mname\u001b[38;5;132;01m!r}\u001b[39;00m\u001b[38;5;124m\"\u001b[39m)\n",
      "\u001b[1;31mAttributeError\u001b[0m: module 'matplotlib' has no attribute 'show'"
     ]
    },
    {
     "data": {
      "image/png": "[encoded data removed]",
      "text/plain": [
       "<Figure size 640x480 with 2 Axes>"
      ]
     },
     "metadata": {},
     "output_type": "display_data"
    }
   ],
   "source": [
    "from sklearn.metrics import ConfusionMatrixDisplay\n",
    "ConfusionMatrixDisplay.from_predictions(y_test, predictions)\n",
    "plt.show()"
   ]
  },
  {
   "cell_type": "markdown",
   "id": "86f53790-c120-4fea-b94f-8e4ffdd24ee4",
   "metadata": {},
   "source": [
    "# Bayesian Belief Network"
   ]
  },
  {
   "cell_type": "code",
   "execution_count": 28,
   "id": "684210d7-0c1b-4487-8add-d2abbff83c83",
   "metadata": {},
   "outputs": [
    {
     "name": "stderr",
     "output_type": "stream",
     "text": [
      "WARNING:pgmpy:BayesianModel has been renamed to BayesianNetwork. Please use BayesianNetwork class, BayesianModel will be removed in future.\n"
     ]
    },
    {
     "name": "stdout",
     "output_type": "stream",
     "text": [
      "+------------+----------+\n",
      "| SMOKING(1) | 0.455882 |\n",
      "+------------+----------+\n",
      "| SMOKING(2) | 0.544118 |\n",
      "+------------+----------+\n",
      "+-------------------+--------------------+---------------------+\n",
      "| SMOKING           | SMOKING(1)         | SMOKING(2)          |\n",
      "+-------------------+--------------------+---------------------+\n",
      "| YELLOW_FINGERS(1) | 0.4112903225806452 | 0.42567567567567566 |\n",
      "+-------------------+--------------------+---------------------+\n",
      "| YELLOW_FINGERS(2) | 0.5887096774193549 | 0.5743243243243243  |\n",
      "+-------------------+--------------------+---------------------+\n",
      "+------------+----------+\n",
      "| ANXIETY(1) | 0.496324 |\n",
      "+------------+----------+\n",
      "| ANXIETY(2) | 0.503676 |\n",
      "+------------+----------+\n",
      "+------------------+--------------------+---------------------+\n",
      "| ANXIETY          | ANXIETY(1)         | ANXIETY(2)          |\n",
      "+------------------+--------------------+---------------------+\n",
      "| PEER_PRESSURE(1) | 0.5925925925925926 | 0.38686131386861317 |\n",
      "+------------------+--------------------+---------------------+\n",
      "| PEER_PRESSURE(2) | 0.4074074074074074 | 0.6131386861313869  |\n",
      "+------------------+--------------------+---------------------+\n"
     ]
    },
    {
     "ename": "TypeError",
     "evalue": "VariableElimination.query() got an unexpected keyword argument 'df'",
     "output_type": "error",
     "traceback": [
      "\u001b[1;31m---------------------------------------------------------------------------\u001b[0m",
      "\u001b[1;31mTypeError\u001b[0m                                 Traceback (most recent call last)",
      "Cell \u001b[1;32mIn[28], line 18\u001b[0m\n\u001b[0;32m     16\u001b[0m \u001b[38;5;66;03m# Perform inference using Variable Elimination\u001b[39;00m\n\u001b[0;32m     17\u001b[0m inference \u001b[38;5;241m=\u001b[39m VariableElimination(model)\n\u001b[1;32m---> 18\u001b[0m predicted_outcome_prob \u001b[38;5;241m=\u001b[39m inference\u001b[38;5;241m.\u001b[39mquery(df\u001b[38;5;241m=\u001b[39m[\u001b[38;5;124m'\u001b[39m\u001b[38;5;124mLUNG_CANCER\u001b[39m\u001b[38;5;124m'\u001b[39m], evidence\u001b[38;5;241m=\u001b[39m{\u001b[38;5;124m'\u001b[39m\u001b[38;5;124mSMOKING\u001b[39m\u001b[38;5;124m'\u001b[39m: \u001b[38;5;241m2\u001b[39m, \u001b[38;5;124m'\u001b[39m\u001b[38;5;124mYELLOW_FINGERS\u001b[39m\u001b[38;5;124m'\u001b[39m: \u001b[38;5;241m2\u001b[39m, \u001b[38;5;124m'\u001b[39m\u001b[38;5;124mANXIETY\u001b[39m\u001b[38;5;124m'\u001b[39m: \u001b[38;5;241m2\u001b[39m, \u001b[38;5;124m'\u001b[39m\u001b[38;5;124mPEER_PRESSURE\u001b[39m\u001b[38;5;124m'\u001b[39m: \u001b[38;5;241m2\u001b[39m, \u001b[38;5;124m'\u001b[39m\u001b[38;5;124mCHRONIC DISEASE\u001b[39m\u001b[38;5;124m'\u001b[39m: \u001b[38;5;241m2\u001b[39m})\n\u001b[0;32m     19\u001b[0m \u001b[38;5;28mprint\u001b[39m(predicted_outcome_prob)\n",
      "\u001b[1;31mTypeError\u001b[0m: VariableElimination.query() got an unexpected keyword argument 'df'"
     ]
    }
   ],
   "source": [
    "from pgmpy.models import BayesianModel\n",
    "from pgmpy.estimators import ParameterEstimator, MaximumLikelihoodEstimator\n",
    "from pgmpy.inference import VariableElimination\n",
    "model = BayesianModel([\n",
    "    ('SMOKING', 'YELLOW_FINGERS'),\n",
    "    ('ANXIETY', 'PEER_PRESSURE', 'CHRONIC DISEASE', 'LUNG_CANCER')\n",
    "])\n",
    "\n",
    "# Learn CPDs using Maximum Likelihood Estimators\n",
    "model.fit(df, estimator=MaximumLikelihoodEstimator)\n",
    "\n",
    "# Print CPDs (Conditional Probability Distributions)\n",
    "for cpd in model.get_cpds():\n",
    "    print(cpd)\n",
    "\n",
    "# Perform inference using Variable Elimination\n",
    "inference = VariableElimination(model)\n",
    "predicted_outcome_prob = inference.query(df=['LUNG_CANCER'], evidence={'SMOKING': 2, 'YELLOW_FINGERS': 2, 'ANXIETY': 2, 'PEER_PRESSURE': 2, 'CHRONIC DISEASE': 2})\n",
    "print(predicted_outcome_prob)"
   ]
  },
  {
   "cell_type": "code",
   "execution_count": 29,
   "id": "12e1e81f-bdb1-4ad2-9d28-77e8763ae520",
   "metadata": {},
   "outputs": [
    {
     "name": "stdout",
     "output_type": "stream",
     "text": [
      "confusion_matrix: \n",
      " [[ 5  1]\n",
      " [ 3 46]]\n"
     ]
    }
   ],
   "source": [
    "print('confusion_matrix: \\n', format(confusion_matrix(y_test, predictions)))"
   ]
  },
  {
   "cell_type": "code",
   "execution_count": 30,
   "id": "1e5c7443-5ec5-4041-888d-861c1c607648",
   "metadata": {},
   "outputs": [
    {
     "ename": "AttributeError",
     "evalue": "module 'matplotlib' has no attribute 'show'",
     "output_type": "error",
     "traceback": [
      "\u001b[1;31m---------------------------------------------------------------------------\u001b[0m",
      "\u001b[1;31mAttributeError\u001b[0m                            Traceback (most recent call last)",
      "Cell \u001b[1;32mIn[30], line 3\u001b[0m\n\u001b[0;32m      1\u001b[0m \u001b[38;5;28;01mfrom\u001b[39;00m \u001b[38;5;21;01msklearn\u001b[39;00m\u001b[38;5;21;01m.\u001b[39;00m\u001b[38;5;21;01mmetrics\u001b[39;00m \u001b[38;5;28;01mimport\u001b[39;00m ConfusionMatrixDisplay\n\u001b[0;32m      2\u001b[0m ConfusionMatrixDisplay\u001b[38;5;241m.\u001b[39mfrom_predictions(y_test, predictions)\n\u001b[1;32m----> 3\u001b[0m plt\u001b[38;5;241m.\u001b[39mshow()\n",
      "File \u001b[1;32m~\\anaconda3\\Lib\\site-packages\\matplotlib\\_api\\__init__.py:217\u001b[0m, in \u001b[0;36mcaching_module_getattr.<locals>.__getattr__\u001b[1;34m(name)\u001b[0m\n\u001b[0;32m    215\u001b[0m \u001b[38;5;28;01mif\u001b[39;00m name \u001b[38;5;129;01min\u001b[39;00m props:\n\u001b[0;32m    216\u001b[0m     \u001b[38;5;28;01mreturn\u001b[39;00m props[name]\u001b[38;5;241m.\u001b[39m\u001b[38;5;21m__get__\u001b[39m(instance)\n\u001b[1;32m--> 217\u001b[0m \u001b[38;5;28;01mraise\u001b[39;00m \u001b[38;5;167;01mAttributeError\u001b[39;00m(\n\u001b[0;32m    218\u001b[0m     \u001b[38;5;124mf\u001b[39m\u001b[38;5;124m\"\u001b[39m\u001b[38;5;124mmodule \u001b[39m\u001b[38;5;132;01m{\u001b[39;00m\u001b[38;5;28mcls\u001b[39m\u001b[38;5;241m.\u001b[39m\u001b[38;5;18m__module__\u001b[39m\u001b[38;5;132;01m!r}\u001b[39;00m\u001b[38;5;124m has no attribute \u001b[39m\u001b[38;5;132;01m{\u001b[39;00mname\u001b[38;5;132;01m!r}\u001b[39;00m\u001b[38;5;124m\"\u001b[39m)\n",
      "\u001b[1;31mAttributeError\u001b[0m: module 'matplotlib' has no attribute 'show'"
     ]
    },
    {
     "data": {
      "image/png": "[encoded data removed]",
      "text/plain": [
       "<Figure size 640x480 with 2 Axes>"
      ]
     },
     "metadata": {},
     "output_type": "display_data"
    }
   ],
   "source": [
    "from sklearn.metrics import ConfusionMatrixDisplay\n",
    "ConfusionMatrixDisplay.from_predictions(y_test, predictions)\n",
    "plt.show()"
   ]
  },
  {
   "cell_type": "markdown",
   "id": "8b4031d0-4b73-452d-8ed1-31c9ad88a5e7",
   "metadata": {},
   "source": [
    "# Decision Tree"
   ]
  },
  {
   "cell_type": "code",
   "execution_count": 31,
   "id": "82c73ed2",
   "metadata": {
    "colab": {
     "base_uri": "https://localhost:8080/"
    },
    "id": "82c73ed2",
    "outputId": "fcbf9206-9b7d-4df2-fb3e-996924aeb136"
   },
   "outputs": [
    {
     "name": "stdout",
     "output_type": "stream",
     "text": [
      "Accuracy: 89.0909090909091 %\n"
     ]
    }
   ],
   "source": [
    "from sklearn.metrics import accuracy_score, classification_report, confusion_matrix\n",
    "\n",
    "dt = DecisionTreeClassifier(criterion='entropy', random_state=42)\n",
    "\n",
    "# Fit the model\n",
    "dt.fit(X_train, y_train)\n",
    "\n",
    "# Make predictions on the test set\n",
    "predictions = dt.predict(X_test)\n",
    "\n",
    "# Evaluate the model\n",
    "accuracy = accuracy_score(y_test, predictions)\n",
    "conf_matrix = confusion_matrix(y_test, predictions)\n",
    "class_report = classification_report(y_test, predictions)\n",
    "print('Accuracy:', accuracy*100, \"%\")"
   ]
  },
  {
   "cell_type": "markdown",
   "id": "5e52dd99-9b94-4ef4-9f08-49b9bb99fbb3",
   "metadata": {},
   "source": [
    "# confusion matrix"
   ]
  },
  {
   "cell_type": "code",
   "execution_count": 32,
   "id": "8f702c07",
   "metadata": {
    "colab": {
     "base_uri": "https://localhost:8080/"
    },
    "id": "8f702c07",
    "outputId": "8d25c0ec-5644-420a-9912-6ebc95bb8958"
   },
   "outputs": [
    {
     "name": "stdout",
     "output_type": "stream",
     "text": [
      "confusion_matrix: \n",
      " [[ 3  3]\n",
      " [ 3 46]]\n"
     ]
    }
   ],
   "source": [
    "print('confusion_matrix: \\n', format(confusion_matrix(y_test, predictions)))"
   ]
  },
  {
   "cell_type": "code",
   "execution_count": 33,
   "id": "21eede5c",
   "metadata": {
    "colab": {
     "base_uri": "https://localhost:8080/",
     "height": 763
    },
    "id": "21eede5c",
    "outputId": "cd4e5998-eea0-4c74-cb56-2b8993a31b7f"
   },
   "outputs": [
    {
     "ename": "AttributeError",
     "evalue": "module 'matplotlib' has no attribute 'show'",
     "output_type": "error",
     "traceback": [
      "\u001b[1;31m---------------------------------------------------------------------------\u001b[0m",
      "\u001b[1;31mAttributeError\u001b[0m                            Traceback (most recent call last)",
      "Cell \u001b[1;32mIn[33], line 3\u001b[0m\n\u001b[0;32m      1\u001b[0m \u001b[38;5;28;01mfrom\u001b[39;00m \u001b[38;5;21;01msklearn\u001b[39;00m\u001b[38;5;21;01m.\u001b[39;00m\u001b[38;5;21;01mmetrics\u001b[39;00m \u001b[38;5;28;01mimport\u001b[39;00m ConfusionMatrixDisplay\n\u001b[0;32m      2\u001b[0m ConfusionMatrixDisplay\u001b[38;5;241m.\u001b[39mfrom_predictions(y_test, predictions)\n\u001b[1;32m----> 3\u001b[0m plt\u001b[38;5;241m.\u001b[39mshow()\n",
      "File \u001b[1;32m~\\anaconda3\\Lib\\site-packages\\matplotlib\\_api\\__init__.py:217\u001b[0m, in \u001b[0;36mcaching_module_getattr.<locals>.__getattr__\u001b[1;34m(name)\u001b[0m\n\u001b[0;32m    215\u001b[0m \u001b[38;5;28;01mif\u001b[39;00m name \u001b[38;5;129;01min\u001b[39;00m props:\n\u001b[0;32m    216\u001b[0m     \u001b[38;5;28;01mreturn\u001b[39;00m props[name]\u001b[38;5;241m.\u001b[39m\u001b[38;5;21m__get__\u001b[39m(instance)\n\u001b[1;32m--> 217\u001b[0m \u001b[38;5;28;01mraise\u001b[39;00m \u001b[38;5;167;01mAttributeError\u001b[39;00m(\n\u001b[0;32m    218\u001b[0m     \u001b[38;5;124mf\u001b[39m\u001b[38;5;124m\"\u001b[39m\u001b[38;5;124mmodule \u001b[39m\u001b[38;5;132;01m{\u001b[39;00m\u001b[38;5;28mcls\u001b[39m\u001b[38;5;241m.\u001b[39m\u001b[38;5;18m__module__\u001b[39m\u001b[38;5;132;01m!r}\u001b[39;00m\u001b[38;5;124m has no attribute \u001b[39m\u001b[38;5;132;01m{\u001b[39;00mname\u001b[38;5;132;01m!r}\u001b[39;00m\u001b[38;5;124m\"\u001b[39m)\n",
      "\u001b[1;31mAttributeError\u001b[0m: module 'matplotlib' has no attribute 'show'"
     ]
    },
    {
     "data": {
      "image/png": "[encoded data removed]",
      "text/plain": [
       "<Figure size 640x480 with 2 Axes>"
      ]
     },
     "metadata": {},
     "output_type": "display_data"
    }
   ],
   "source": [
    "from sklearn.metrics import ConfusionMatrixDisplay\n",
    "ConfusionMatrixDisplay.from_predictions(y_test, predictions)\n",
    "plt.show()"
   ]
  },
  {
   "cell_type": "code",
   "execution_count": 34,
   "id": "819d798f",
   "metadata": {
    "colab": {
     "base_uri": "https://localhost:8080/"
    },
    "id": "819d798f",
    "outputId": "5fd04789-fbc0-40da-8008-eef41f6ecba1"
   },
   "outputs": [
    {
     "name": "stdout",
     "output_type": "stream",
     "text": [
      "Precision score:  0.9387755102040817\n",
      "Recall score:  0.9387755102040817\n",
      "F1 score:  0.9387755102040817\n"
     ]
    }
   ],
   "source": [
    "print('Precision score: ', format(precision_score(y_test, predictions)))\n",
    "print('Recall score: ', format(recall_score(y_test, predictions)))\n",
    "print('F1 score: ', format(f1_score(y_test, predictions)))"
   ]
  },
  {
   "cell_type": "code",
   "execution_count": 35,
   "id": "15e9c6ca",
   "metadata": {
    "colab": {
     "base_uri": "https://localhost:8080/"
    },
    "id": "15e9c6ca",
    "outputId": "81536bf3-5724-4e5b-a484-894f106553d1",
    "scrolled": true
   },
   "outputs": [
    {
     "name": "stdout",
     "output_type": "stream",
     "text": [
      "Classification report: \n",
      "               precision    recall  f1-score   support\n",
      "\n",
      "           0       0.50      0.50      0.50         6\n",
      "           1       0.94      0.94      0.94        49\n",
      "\n",
      "    accuracy                           0.89        55\n",
      "   macro avg       0.72      0.72      0.72        55\n",
      "weighted avg       0.89      0.89      0.89        55\n",
      "\n"
     ]
    }
   ],
   "source": [
    "from sklearn.metrics import classification_report\n",
    "Classification =print('Classification report: \\n', format(classification_report (y_test, predictions,)))"
   ]
  },
  {
   "cell_type": "code",
   "execution_count": 36,
   "id": "50f97cfe-2377-44e4-9af4-e91f2644eb53",
   "metadata": {
    "scrolled": true
   },
   "outputs": [
    {
     "name": "stdout",
     "output_type": "stream",
     "text": [
      "[[266.40234375 286.4375     228.1640625  ... 212.2421875  177.0625\n",
      "  230.859375  ]\n",
      " [286.4375     308.5        245.4375     ... 228.5625     190.4375\n",
      "  248.1875    ]\n",
      " [228.1640625  245.4375     195.734375   ... 181.953125   151.625\n",
      "  197.71875   ]\n",
      " ...\n",
      " [212.2421875  228.5625     181.953125   ... 169.484375   141.125\n",
      "  183.90625   ]\n",
      " [177.0625     190.4375     151.625      ... 141.125      117.875\n",
      "  153.4375    ]\n",
      " [230.859375   248.1875     197.71875    ... 183.90625    153.4375\n",
      "  200.0625    ]]\n"
     ]
    }
   ],
   "source": [
    "covar_matrix = np.cov(df, bias=True)\n",
    "print(covar_matrix)"
   ]
  },
  {
   "cell_type": "markdown",
   "id": "dcf1b8e6-3c95-4643-a33d-a960b4580446",
   "metadata": {},
   "source": [
    "# LDA model"
   ]
  },
  {
   "cell_type": "code",
   "execution_count": 37,
   "id": "28a8acb6-c775-4381-b11c-baa719b5d3f1",
   "metadata": {},
   "outputs": [
    {
     "name": "stdout",
     "output_type": "stream",
     "text": [
      "Accuracy score:  92.727273%\n"
     ]
    }
   ],
   "source": [
    "lda_m= LDA()\n",
    "lda = lda_m.fit(X_train,y_train)\n",
    "lda_predictions=lda.predict(X_test)\n",
    "Accuracy= print('Accuracy score: ', format(accuracy_score(y_test, lda_predictions),'%'))"
   ]
  },
  {
   "cell_type": "code",
   "execution_count": 38,
   "id": "e3c391f5-ec11-459d-b0c5-ff0a64870eda",
   "metadata": {},
   "outputs": [
    {
     "name": "stdout",
     "output_type": "stream",
     "text": [
      "confusion_matrix: \n",
      " [[ 3  3]\n",
      " [ 3 46]]\n"
     ]
    }
   ],
   "source": [
    "print('confusion_matrix: \\n', format(confusion_matrix(y_test, predictions)))"
   ]
  },
  {
   "cell_type": "code",
   "execution_count": 39,
   "id": "3X_w0e2U_6hu",
   "metadata": {
    "colab": {
     "base_uri": "https://localhost:8080/",
     "height": 752
    },
    "id": "3X_w0e2U_6hu",
    "outputId": "0ddd7b82-f96a-429f-b24c-f5c3a3535a80"
   },
   "outputs": [
    {
     "ename": "AttributeError",
     "evalue": "module 'matplotlib' has no attribute 'show'",
     "output_type": "error",
     "traceback": [
      "\u001b[1;31m---------------------------------------------------------------------------\u001b[0m",
      "\u001b[1;31mAttributeError\u001b[0m                            Traceback (most recent call last)",
      "Cell \u001b[1;32mIn[39], line 2\u001b[0m\n\u001b[0;32m      1\u001b[0m ConfusionMatrixDisplay\u001b[38;5;241m.\u001b[39mfrom_predictions(y_test, lda_predictions)\n\u001b[1;32m----> 2\u001b[0m plt\u001b[38;5;241m.\u001b[39mshow()\n",
      "File \u001b[1;32m~\\anaconda3\\Lib\\site-packages\\matplotlib\\_api\\__init__.py:217\u001b[0m, in \u001b[0;36mcaching_module_getattr.<locals>.__getattr__\u001b[1;34m(name)\u001b[0m\n\u001b[0;32m    215\u001b[0m \u001b[38;5;28;01mif\u001b[39;00m name \u001b[38;5;129;01min\u001b[39;00m props:\n\u001b[0;32m    216\u001b[0m     \u001b[38;5;28;01mreturn\u001b[39;00m props[name]\u001b[38;5;241m.\u001b[39m\u001b[38;5;21m__get__\u001b[39m(instance)\n\u001b[1;32m--> 217\u001b[0m \u001b[38;5;28;01mraise\u001b[39;00m \u001b[38;5;167;01mAttributeError\u001b[39;00m(\n\u001b[0;32m    218\u001b[0m     \u001b[38;5;124mf\u001b[39m\u001b[38;5;124m\"\u001b[39m\u001b[38;5;124mmodule \u001b[39m\u001b[38;5;132;01m{\u001b[39;00m\u001b[38;5;28mcls\u001b[39m\u001b[38;5;241m.\u001b[39m\u001b[38;5;18m__module__\u001b[39m\u001b[38;5;132;01m!r}\u001b[39;00m\u001b[38;5;124m has no attribute \u001b[39m\u001b[38;5;132;01m{\u001b[39;00mname\u001b[38;5;132;01m!r}\u001b[39;00m\u001b[38;5;124m\"\u001b[39m)\n",
      "\u001b[1;31mAttributeError\u001b[0m: module 'matplotlib' has no attribute 'show'"
     ]
    },
    {
     "data": {
      "image/png": "[encoded data removed]",
      "text/plain": [
       "<Figure size 640x480 with 2 Axes>"
      ]
     },
     "metadata": {},
     "output_type": "display_data"
    }
   ],
   "source": [
    "ConfusionMatrixDisplay.from_predictions(y_test, lda_predictions)\n",
    "plt.show()"
   ]
  },
  {
   "cell_type": "markdown",
   "id": "19d5553c-819e-411a-9df9-d3ad888c1e89",
   "metadata": {},
   "source": [
    "# PCA model"
   ]
  },
  {
   "cell_type": "code",
   "execution_count": 40,
   "id": "9cb46a8e-6f00-4c74-a03f-19f97aabe47d",
   "metadata": {},
   "outputs": [
    {
     "name": "stdout",
     "output_type": "stream",
     "text": [
      "Accuracy: 0.9090909090909091\n"
     ]
    }
   ],
   "source": [
    "scaler = StandardScaler()\n",
    "X_train_scaled = scaler.fit_transform(X_train)\n",
    "X_test_scaled = scaler.transform(X_test)\n",
    "\n",
    "# Set the number of components (adjust as needed)\n",
    "n_components = 5\n",
    "\n",
    "# Create a PCA model\n",
    "pca = PCA(n_components=n_components)\n",
    "\n",
    "# Fit and transform the training data\n",
    "X_train_pca = pca.fit_transform(X_train_scaled)\n",
    "\n",
    "# Transform the test data using the same PCA model\n",
    "X_test_pca = pca.transform(X_test_scaled)\n",
    "\n",
    "# You can now use X_train_pca and X_test_pca as your new feature matrices\n",
    "\n",
    "# (Optional) If you want to use these components for classification, you can use any classifier\n",
    "# Example using a simple classifier (replace with your preferred classifier)\n",
    "from sklearn.linear_model import LogisticRegression\n",
    "\n",
    "# Create a classifier\n",
    "classifier = LogisticRegression()\n",
    "\n",
    "# Fit the classifier on the PCA-transformed training data\n",
    "classifier.fit(X_train_pca, y_train)\n",
    "\n",
    "# Make predictions on the PCA-transformed test data\n",
    "predictions = classifier.predict(X_test_pca)\n",
    "\n",
    "# Evaluate the model\n",
    "accuracy = accuracy_score(y_test, predictions)\n",
    "conf_matrix = confusion_matrix(y_test, predictions)\n",
    "class_report = classification_report(y_test, predictions)\n",
    "\n",
    "# Display results\n",
    "print('Accuracy:', accuracy)"
   ]
  },
  {
   "cell_type": "code",
   "execution_count": 41,
   "id": "e4c6f88c-98a5-42f4-8b43-d4a7e474d565",
   "metadata": {},
   "outputs": [
    {
     "name": "stdout",
     "output_type": "stream",
     "text": [
      "confusion_matrix: \n",
      " [[ 4  2]\n",
      " [ 3 46]]\n"
     ]
    }
   ],
   "source": [
    "print('confusion_matrix: \\n', format(confusion_matrix(y_test, predictions)))"
   ]
  },
  {
   "cell_type": "code",
   "execution_count": 42,
   "id": "7c660329-daa1-49c1-b80c-94aee69ba806",
   "metadata": {},
   "outputs": [
    {
     "ename": "AttributeError",
     "evalue": "module 'matplotlib' has no attribute 'show'",
     "output_type": "error",
     "traceback": [
      "\u001b[1;31m---------------------------------------------------------------------------\u001b[0m",
      "\u001b[1;31mAttributeError\u001b[0m                            Traceback (most recent call last)",
      "Cell \u001b[1;32mIn[42], line 2\u001b[0m\n\u001b[0;32m      1\u001b[0m ConfusionMatrixDisplay\u001b[38;5;241m.\u001b[39mfrom_predictions(y_test, lda_predictions)\n\u001b[1;32m----> 2\u001b[0m plt\u001b[38;5;241m.\u001b[39mshow()\n",
      "File \u001b[1;32m~\\anaconda3\\Lib\\site-packages\\matplotlib\\_api\\__init__.py:217\u001b[0m, in \u001b[0;36mcaching_module_getattr.<locals>.__getattr__\u001b[1;34m(name)\u001b[0m\n\u001b[0;32m    215\u001b[0m \u001b[38;5;28;01mif\u001b[39;00m name \u001b[38;5;129;01min\u001b[39;00m props:\n\u001b[0;32m    216\u001b[0m     \u001b[38;5;28;01mreturn\u001b[39;00m props[name]\u001b[38;5;241m.\u001b[39m\u001b[38;5;21m__get__\u001b[39m(instance)\n\u001b[1;32m--> 217\u001b[0m \u001b[38;5;28;01mraise\u001b[39;00m \u001b[38;5;167;01mAttributeError\u001b[39;00m(\n\u001b[0;32m    218\u001b[0m     \u001b[38;5;124mf\u001b[39m\u001b[38;5;124m\"\u001b[39m\u001b[38;5;124mmodule \u001b[39m\u001b[38;5;132;01m{\u001b[39;00m\u001b[38;5;28mcls\u001b[39m\u001b[38;5;241m.\u001b[39m\u001b[38;5;18m__module__\u001b[39m\u001b[38;5;132;01m!r}\u001b[39;00m\u001b[38;5;124m has no attribute \u001b[39m\u001b[38;5;132;01m{\u001b[39;00mname\u001b[38;5;132;01m!r}\u001b[39;00m\u001b[38;5;124m\"\u001b[39m)\n",
      "\u001b[1;31mAttributeError\u001b[0m: module 'matplotlib' has no attribute 'show'"
     ]
    },
    {
     "data": {
      "image/png": "[encoded data removed]",
      "text/plain": [
       "<Figure size 640x480 with 2 Axes>"
      ]
     },
     "metadata": {},
     "output_type": "display_data"
    }
   ],
   "source": [
    "ConfusionMatrixDisplay.from_predictions(y_test, lda_predictions)\n",
    "plt.show()"
   ]
  },
  {
   "cell_type": "markdown",
   "id": "569431ec-c50b-4c34-a697-9b0207589e09",
   "metadata": {},
   "source": [
    "# K-folds"
   ]
  },
  {
   "cell_type": "code",
   "execution_count": 43,
   "id": "22c3fd6f",
   "metadata": {
    "id": "22c3fd6f"
   },
   "outputs": [
    {
     "name": "stdout",
     "output_type": "stream",
     "text": [
      "Accuracy Scores: [0.85454545 0.98181818 0.85185185 0.88888889 0.90740741]\n",
      "Average Accuracy: 0.896902356902357\n"
     ]
    }
   ],
   "source": [
    "model = RandomForestClassifier()\n",
    "k_folds = 5\n",
    "kf = KFold(n_splits=k_folds, shuffle=True, random_state=42)\n",
    "accuracy_scores = cross_val_score(model, X, y, cv=kf, scoring='accuracy')\n",
    "average_accuracy = np.mean(accuracy_scores)\n",
    "print(f'Accuracy Scores: {accuracy_scores}')\n",
    "print(f'Average Accuracy: {average_accuracy}')"
   ]
  },
  {
   "cell_type": "code",
   "execution_count": 44,
   "id": "cb3c3704-afc7-4679-bfaf-6f11deaf3fcf",
   "metadata": {},
   "outputs": [
    {
     "name": "stdout",
     "output_type": "stream",
     "text": [
      "confusion_matrix: \n",
      " [[ 4  2]\n",
      " [ 3 46]]\n"
     ]
    }
   ],
   "source": [
    "print('confusion_matrix: \\n', format(confusion_matrix(y_test, predictions)))"
   ]
  },
  {
   "cell_type": "code",
   "execution_count": 45,
   "id": "5ff0ab17-2172-4eb2-a7af-0f98be255739",
   "metadata": {},
   "outputs": [
    {
     "ename": "AttributeError",
     "evalue": "module 'matplotlib' has no attribute 'show'",
     "output_type": "error",
     "traceback": [
      "\u001b[1;31m---------------------------------------------------------------------------\u001b[0m",
      "\u001b[1;31mAttributeError\u001b[0m                            Traceback (most recent call last)",
      "Cell \u001b[1;32mIn[45], line 2\u001b[0m\n\u001b[0;32m      1\u001b[0m ConfusionMatrixDisplay\u001b[38;5;241m.\u001b[39mfrom_predictions(y_test, lda_predictions)\n\u001b[1;32m----> 2\u001b[0m plt\u001b[38;5;241m.\u001b[39mshow()\n",
      "File \u001b[1;32m~\\anaconda3\\Lib\\site-packages\\matplotlib\\_api\\__init__.py:217\u001b[0m, in \u001b[0;36mcaching_module_getattr.<locals>.__getattr__\u001b[1;34m(name)\u001b[0m\n\u001b[0;32m    215\u001b[0m \u001b[38;5;28;01mif\u001b[39;00m name \u001b[38;5;129;01min\u001b[39;00m props:\n\u001b[0;32m    216\u001b[0m     \u001b[38;5;28;01mreturn\u001b[39;00m props[name]\u001b[38;5;241m.\u001b[39m\u001b[38;5;21m__get__\u001b[39m(instance)\n\u001b[1;32m--> 217\u001b[0m \u001b[38;5;28;01mraise\u001b[39;00m \u001b[38;5;167;01mAttributeError\u001b[39;00m(\n\u001b[0;32m    218\u001b[0m     \u001b[38;5;124mf\u001b[39m\u001b[38;5;124m\"\u001b[39m\u001b[38;5;124mmodule \u001b[39m\u001b[38;5;132;01m{\u001b[39;00m\u001b[38;5;28mcls\u001b[39m\u001b[38;5;241m.\u001b[39m\u001b[38;5;18m__module__\u001b[39m\u001b[38;5;132;01m!r}\u001b[39;00m\u001b[38;5;124m has no attribute \u001b[39m\u001b[38;5;132;01m{\u001b[39;00mname\u001b[38;5;132;01m!r}\u001b[39;00m\u001b[38;5;124m\"\u001b[39m)\n",
      "\u001b[1;31mAttributeError\u001b[0m: module 'matplotlib' has no attribute 'show'"
     ]
    },
    {
     "data": {
      "image/png": "[encoded data removed]",
      "text/plain": [
       "<Figure size 640x480 with 2 Axes>"
      ]
     },
     "metadata": {},
     "output_type": "display_data"
    }
   ],
   "source": [
    "ConfusionMatrixDisplay.from_predictions(y_test, lda_predictions)\n",
    "plt.show()"
   ]
  },
  {
   "cell_type": "markdown",
   "id": "8389cce2-2bdf-44dc-9b56-9aac93c8ff32",
   "metadata": {},
   "source": [
    "# KNN using different distances"
   ]
  },
  {
   "cell_type": "code",
   "execution_count": 46,
   "id": "oD2R_52VAWgo",
   "metadata": {
    "id": "oD2R_52VAWgo"
   },
   "outputs": [
    {
     "name": "stdout",
     "output_type": "stream",
     "text": [
      "Accuracy score (Euclidean): 89.09%\n",
      "Accuracy score (Manhattan): 89.09%\n",
      "Accuracy score (Minkowski): 89.09%\n"
     ]
    }
   ],
   "source": [
    "# Euclidean distance\n",
    "knn_m_euclidean = KNeighborsClassifier(n_neighbors=97)\n",
    "knn_m_euclidean.fit(X_train, y_train)\n",
    "knn_predictions_euclidean = knn_m_euclidean.predict(X_test)\n",
    "accuracy_euclidean = accuracy_score(y_test, knn_predictions_euclidean)\n",
    "print('Accuracy score (Euclidean): {:.2%}'.format(accuracy_euclidean))\n",
    "\n",
    "# Manhattan distance\n",
    "knn_m_manhattan = KNeighborsClassifier(n_neighbors=97, metric='manhattan')\n",
    "knn_m_manhattan.fit(X_train, y_train)\n",
    "knn_predictions_manhattan = knn_m_manhattan.predict(X_test)\n",
    "accuracy_manhattan = accuracy_score(y_test, knn_predictions_manhattan)\n",
    "print('Accuracy score (Manhattan): {:.2%}'.format(accuracy_manhattan))\n",
    "\n",
    "# Minkowski distance (generalization of Euclidean and Manhattan)\n",
    "knn_m_minkowski = KNeighborsClassifier(n_neighbors=97, metric='minkowski', p=3)  # p=2 for Euclidean, p=1 for Manhattan\n",
    "knn_m_minkowski.fit(X_train, y_train)\n",
    "knn_predictions_minkowski = knn_m_minkowski.predict(X_test)\n",
    "accuracy_minkowski = accuracy_score(y_test, knn_predictions_minkowski)\n",
    "print('Accuracy score (Minkowski): {:.2%}'.format(accuracy_minkowski))"
   ]
  },
  {
   "cell_type": "code",
   "execution_count": 47,
   "id": "3f850647-00d2-45aa-8396-20fcccae5c1e",
   "metadata": {},
   "outputs": [
    {
     "name": "stdout",
     "output_type": "stream",
     "text": [
      "confusion_matrix: \n",
      " [[ 4  2]\n",
      " [ 3 46]]\n"
     ]
    }
   ],
   "source": [
    "print('confusion_matrix: \\n', format(confusion_matrix(y_test, predictions)))"
   ]
  },
  {
   "cell_type": "code",
   "execution_count": 48,
   "id": "37fcbbcc-f98b-406a-a5fb-b0cd08676cde",
   "metadata": {},
   "outputs": [
    {
     "ename": "AttributeError",
     "evalue": "module 'matplotlib' has no attribute 'show'",
     "output_type": "error",
     "traceback": [
      "\u001b[1;31m---------------------------------------------------------------------------\u001b[0m",
      "\u001b[1;31mAttributeError\u001b[0m                            Traceback (most recent call last)",
      "Cell \u001b[1;32mIn[48], line 2\u001b[0m\n\u001b[0;32m      1\u001b[0m ConfusionMatrixDisplay\u001b[38;5;241m.\u001b[39mfrom_predictions(y_test, lda_predictions)\n\u001b[1;32m----> 2\u001b[0m plt\u001b[38;5;241m.\u001b[39mshow()\n",
      "File \u001b[1;32m~\\anaconda3\\Lib\\site-packages\\matplotlib\\_api\\__init__.py:217\u001b[0m, in \u001b[0;36mcaching_module_getattr.<locals>.__getattr__\u001b[1;34m(name)\u001b[0m\n\u001b[0;32m    215\u001b[0m \u001b[38;5;28;01mif\u001b[39;00m name \u001b[38;5;129;01min\u001b[39;00m props:\n\u001b[0;32m    216\u001b[0m     \u001b[38;5;28;01mreturn\u001b[39;00m props[name]\u001b[38;5;241m.\u001b[39m\u001b[38;5;21m__get__\u001b[39m(instance)\n\u001b[1;32m--> 217\u001b[0m \u001b[38;5;28;01mraise\u001b[39;00m \u001b[38;5;167;01mAttributeError\u001b[39;00m(\n\u001b[0;32m    218\u001b[0m     \u001b[38;5;124mf\u001b[39m\u001b[38;5;124m\"\u001b[39m\u001b[38;5;124mmodule \u001b[39m\u001b[38;5;132;01m{\u001b[39;00m\u001b[38;5;28mcls\u001b[39m\u001b[38;5;241m.\u001b[39m\u001b[38;5;18m__module__\u001b[39m\u001b[38;5;132;01m!r}\u001b[39;00m\u001b[38;5;124m has no attribute \u001b[39m\u001b[38;5;132;01m{\u001b[39;00mname\u001b[38;5;132;01m!r}\u001b[39;00m\u001b[38;5;124m\"\u001b[39m)\n",
      "\u001b[1;31mAttributeError\u001b[0m: module 'matplotlib' has no attribute 'show'"
     ]
    },
    {
     "data": {
      "image/png": "[encoded data removed]",
      "text/plain": [
       "<Figure size 640x480 with 2 Axes>"
      ]
     },
     "metadata": {},
     "output_type": "display_data"
    }
   ],
   "source": [
    "ConfusionMatrixDisplay.from_predictions(y_test, lda_predictions)\n",
    "plt.show()"
   ]
  },
  {
   "cell_type": "code",
   "execution_count": 49,
   "id": "eq3SfGYEAmZS",
   "metadata": {
    "id": "eq3SfGYEAmZS"
   },
   "outputs": [
    {
     "name": "stdout",
     "output_type": "stream",
     "text": [
      "Classification report: \n",
      "               precision    recall  f1-score   support\n",
      "\n",
      "           0       0.57      0.67      0.62         6\n",
      "           1       0.96      0.94      0.95        49\n",
      "\n",
      "    accuracy                           0.91        55\n",
      "   macro avg       0.76      0.80      0.78        55\n",
      "weighted avg       0.92      0.91      0.91        55\n",
      "\n"
     ]
    }
   ],
   "source": [
    "from sklearn.metrics import classification_report\n",
    "Classification =print('Classification report: \\n', format(classification_report (y_test, predictions,)))"
   ]
  },
  {
   "cell_type": "code",
   "execution_count": 50,
   "id": "e4255858-a525-4880-956e-5a5c182a9eda",
   "metadata": {
    "scrolled": true
   },
   "outputs": [
    {
     "data": {
      "image/png": "[encoded data removed]",
      "text/plain": [
       "<Figure size 640x480 with 1 Axes>"
      ]
     },
     "metadata": {},
     "output_type": "display_data"
    },
    {
     "name": "stdout",
     "output_type": "stream",
     "text": [
      "The model is fitting well.\n"
     ]
    }
   ],
   "source": [
    "from sklearn.neighbors import KNeighborsClassifier\n",
    "from sklearn.metrics import accuracy_score\n",
    "import matplotlib.pyplot as plt\n",
    "\n",
    "# Assuming X_train, y_train, X_test, y_test are defined\n",
    "\n",
    "# Define a range of k values to experiment with\n",
    "k_values = range(1, 101)\n",
    "\n",
    "# Lists to store accuracy for training and validation sets\n",
    "train_accuracy_values = []\n",
    "val_accuracy_values = []\n",
    "\n",
    "# Loop through different k values\n",
    "for k in k_values:\n",
    "    # Create and fit the KNeighborsClassifier with the current k value\n",
    "    knn_m = KNeighborsClassifier(n_neighbors=k)\n",
    "    knn_m.fit(X_train, y_train)\n",
    "\n",
    "    # Predictions on the training set\n",
    "    train_predictions = knn_m.predict(X_train)\n",
    "    train_accuracy = accuracy_score(y_train, train_predictions)\n",
    "    train_accuracy_values.append(train_accuracy)\n",
    "\n",
    "    # Predictions on the validation set\n",
    "    val_predictions = knn_m.predict(X_test)\n",
    "    val_accuracy = accuracy_score(y_test, val_predictions)\n",
    "    val_accuracy_values.append(val_accuracy)\n",
    "\n",
    "# Plotting the training and validation accuracy\n",
    "plt.plot(k_values, train_accuracy_values, label='Training Accuracy')\n",
    "plt.plot(k_values, val_accuracy_values, label='Validation Accuracy')\n",
    "plt.xlabel('k (Number of Neighbors)')\n",
    "plt.ylabel('Accuracy')\n",
    "plt.title('Training and Validation Accuracy vs k')\n",
    "plt.legend()\n",
    "plt.show()\n",
    "\n",
    "# Check for overfitting, underfitting, or fitting well\n",
    "if max(val_accuracy_values) <= max(train_accuracy_values):\n",
    "    print(\"The model is fitting well.\")\n",
    "elif max(val_accuracy_values) < max(train_accuracy_values):\n",
    "    print(\"The model may be overfitting.\")\n",
    "else:\n",
    "    print(\"The model may be underfitting.\")"
   ]
  }
 ],
 "metadata": {
  "colab": {
   "provenance": []
  },
  "kernelspec": {
   "display_name": "Python 3 (ipykernel)",
   "language": "python",
   "name": "python3"
  },
  "language_info": {
   "codemirror_mode": {
    "name": "ipython",
    "version": 3
   },
   "file_extension": ".py",
   "mimetype": "text/x-python",
   "name": "python",
   "nbconvert_exporter": "python",
   "pygments_lexer": "ipython3",
   "version": "3.11.5"
  }
 },
 "nbformat": 4,
 "nbformat_minor": 5
}
